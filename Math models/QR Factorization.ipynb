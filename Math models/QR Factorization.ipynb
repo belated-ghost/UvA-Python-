{
 "cells": [
  {
   "cell_type": "markdown",
   "metadata": {
    "deletable": false,
    "editable": false,
    "nbgrader": {
     "cell_type": "markdown",
     "checksum": "7407018013ccd4b8d7f7bad12636978e",
     "grade": false,
     "grade_id": "cell-1934b59a9e99bb1b",
     "locked": true,
     "schema_version": 3,
     "solution": false,
     "task": false
    }
   },
   "source": [
    "# Homework Assignment 2: QR Factorization\n",
    "\n",
    "One algorithmic idea in numerical linear algebra is more important ([one of the 10 most important algorithms of the 20th century](https://archive.siam.org/pdf/news/637.pdf)) than all the others: QR factorization. This decomposition plays a crucial role in many problems:\n",
    "* Computing orthogonal bases in a linear space.\n",
    "* The preprocessing step for the singular value decomposition (principal component analysis).\n",
    "* The computation of eigenvectors and eigenvalues (covered in next week's lectures).\n",
    "* Methods for least squares problems (overdetermined systems of linear equations).\n",
    "\n",
    "Before tackling the task of implementing this method, let's first introduce the Python library that provides all the necessary linear algebra functionality."
   ]
  },
  {
   "cell_type": "code",
   "execution_count": null,
   "metadata": {},
   "outputs": [],
   "source": [
    "# All Import Statements Defined Here\n",
    "# Note: Do not add to this list anywhere.\n",
    "# ----------------\n",
    "\n",
    "import math\n",
    "import numpy as np\n",
    "import numpy.linalg as la"
   ]
  },
  {
   "cell_type": "markdown",
   "metadata": {
    "deletable": false,
    "editable": false,
    "nbgrader": {
     "cell_type": "markdown",
     "checksum": "572fcf92af82b87c8ea1e2ddc6f35c1f",
     "grade": false,
     "grade_id": "cell-6bc290e9a1378176",
     "locked": true,
     "schema_version": 3,
     "solution": false,
     "task": false
    }
   },
   "source": [
    "## Standard Gram-Schmidt Process\n",
    "\n",
    "Recall that every rectangular $n \\times m$ ($n \\geq m$) matrix $A$ with linearly indepedent columns can be represented as a product\n",
    "$$A = QR, \\qquad \\text{or in matrix form} \\qquad \\begin{bmatrix}\\mid & \\mid & & \\mid \\\\ v_1 & v_2 & \\dots & v_m \\\\ \\mid & \\mid & & \\mid \\end{bmatrix} = \\begin{bmatrix}\\mid & \\mid & & \\mid \\\\ u_1 & u_2 & \\dots & u_m \\\\ \\mid & \\mid & & \\mid \\end{bmatrix} \\begin{bmatrix} r_{11} & r_{12} & \\dots & r_{1m} \\\\ & r_{22} & \\dots & r_{2m}\\\\ & & \\ddots & \\vdots \\\\ & & & r_{mm} \\end{bmatrix}$$\n",
    "where $Q$ is an orthogonal $n \\times m$ matrix (i.e. its columns are orthonormal) and $R$ is an upper-triangular $m \\times m$ matrix. In this assignment your task will be to implement several methods to achieve this factorization for a given matrix $A$. \n",
    "\n",
    "Our first goal is to orthogonalize a system of linearly independent vectors $v_1, \\dots, v_m$ (i.e. the columns of some matrix $A$). The standard procedure for this task is the Gram-Schmidt process as covered in the lecture:\n",
    "\\begin{align*}\n",
    "u_1 &= \\frac{v_1}{r_{11}} \\\\\n",
    "v_2^\\perp &= v_2 - r_{12} u_1, \\quad u_2 = \\frac{v_2^\\perp}{r_{22}} \\\\\n",
    "v_3^\\perp &= v_3 - r_{13} u_1 - r_{23} u_2, \\quad u_3 = \\frac{v_2^\\perp}{r_{33}} \\\\\n",
    "\\vdots\n",
    "\\end{align*}\n",
    "where\n",
    "\\begin{align*}\n",
    "r_{jj} &= \\|v_j - \\sum_{i=1}^{j-1} r_{ij} u_i\\| &&\\quad \\text{for }\\ 1 \\leq j \\leq m\\ \\\\\n",
    "r_{ij} &= \\langle v_j, u_i \\rangle &&\\quad \\text{for } 1 \\leq i < j \\leq m\n",
    "\\end{align*}"
   ]
  },
  {
   "cell_type": "markdown",
   "metadata": {
    "deletable": false,
    "editable": false,
    "nbgrader": {
     "cell_type": "markdown",
     "checksum": "c27a1e844340cb7e430a5e29c9d719c7",
     "grade": false,
     "grade_id": "cell-0b756a284e5ee41d",
     "locked": true,
     "schema_version": 3,
     "solution": false,
     "task": false
    }
   },
   "source": [
    "## Problem 2: (Classical) Gram-Schmidt Orthogonalization (3 points)\n",
    "\n",
    "Implement the described Gram-Schmidt algorithm as a function `gram_schmidt_qr` below that takes a rectangular array $A$ and outputs $Q$ and $R$. \n",
    "\n",
    "**IMPORTANT**: Do not use any built-in QR functions like `np.linalg.qr` or `scipy.lingalg.qr`. These will give different results anyway as these use a different numerical scheme. \n",
    "\n",
    "**HINT**: The following functions for vectors might be useful: `np.linalg.norm` to compute the norm of a 1-D array and `np.inner` to compute the regular dot product between two 1-D arrays."
   ]
  },
  {
   "cell_type": "code",
   "execution_count": 94,
   "metadata": {
    "deletable": false,
    "nbgrader": {
     "cell_type": "code",
     "checksum": "fa95cae7a19466bf908d2d99750c0f24",
     "grade": false,
     "grade_id": "cell-5b605d5073bf6422",
     "locked": false,
     "schema_version": 3,
     "solution": true,
     "task": false
    }
   },
   "outputs": [],
   "source": [
    "def gram_schmidt_qr(A):\n",
    "    \"\"\"\n",
    "    Computes the QR factorization of a matrix A with linearly independent columns\n",
    "    by means of the classical Gram-Schmidt process, where Q is an orthogonal matrix \n",
    "    and R is upper-triangular with positive entries on its diagonal. \n",
    "    \n",
    "    Parameters\n",
    "    ----------\n",
    "        A (ndarray): A two-dimensional array of size n by m with n >= m\n",
    "            whose columns are linearly independent\n",
    "    \n",
    "    Returns\n",
    "    -------\n",
    "        Q (ndarray): A two-dimensional array of size n by m\n",
    "        R (ndarray): A two-dimensional array of size m by m\n",
    "        \n",
    "    \"\"\"\n",
    "    \n",
    "    n, m = A.shape\n",
    "    Q = np.zeros((n,m))\n",
    "    R = np.zeros((m,m))\n",
    "    \n",
    "    # YOUR CODE HERE\n",
    "    for j in range(1, m+1):\n",
    "        suma = 0\n",
    "        persuma = 0\n",
    "        # upper triangular matrix R, column by column\n",
    "        for i in range(1, j):\n",
    "            R[i-1,j-1] = np.inner(np.hstack(A[:,j-1:j]), np.hstack(Q[:,i-1:i])) #r(ij)\n",
    "            suma += R[i-1,j-1]*Q[:,i-1:i] #r(ij)*u(i)\n",
    "        R[j-1,j-1] = np.linalg.norm(A[:,j-1:j]-suma) #r(jj)\n",
    "        # orthogonal matrix Q, column by column\n",
    "        if j>1:\n",
    "            for i in range(1,j):\n",
    "                persuma += R[i-1, j-1]*Q[:,i-1:i] #v(j) perpendicular \n",
    "        Q[:,j-1:j] = (A[:,j-1:j]-persuma) / R[j-1,j-1] #u(j)\n",
    "            \n",
    "    return Q, R\n"
   ]
  },
  {
   "cell_type": "code",
   "execution_count": 89,
   "metadata": {},
   "outputs": [
    {
     "name": "stdout",
     "output_type": "stream",
     "text": [
      "Original array\n",
      " [[2 3 4]\n",
      " [4 5 6]\n",
      " [6 7 8]] \n",
      "\n",
      "Subarray using arr[:,0:1]\n",
      " [[4]\n",
      " [6]\n",
      " [8]]\n",
      "[[3]\n",
      " [5]\n",
      " [7]]\n",
      "\n",
      " next \n",
      "\n",
      "1\n",
      "\n",
      " next \n",
      "\n",
      "0.0\n"
     ]
    }
   ],
   "source": [
    "# You can use this code cell to play around with your function to make sure\n",
    "# it does what it is intended to do, i.e. to debug your code. \n",
    "print(\"Original array\\n\", arr, \"\\n\")\n",
    "\n",
    "print(\"Subarray using arr[:,0:1]\\n\", arr[:,2:3])\n",
    "a = arr[:,1:2]- 0\n",
    "print(a)\n",
    "\n",
    "\n",
    "print(\"\\n next \\n\")\n",
    "m=3\n",
    "for i in range(1, 2):\n",
    "    print(i)\n",
    "\n",
    "print(\"\\n next \\n\")\n",
    "\n",
    "A = np.array([[2,2], [1,7], [-2, -8]])\n",
    "n, m = A.shape\n",
    "Q = np.zeros((n,m))\n",
    "R = np.zeros((m,m))\n",
    "for j in range(1, m+1):\n",
    "        for i in range(1, j):\n",
    "            aj=np.hstack(A[:,j-1:j])\n",
    "            qi=np.hstack(Q[:,i-1:i])\n",
    "            R[i-1,j-1]=np.inner(aj, qi)\n",
    "            print(R[i-1,j-1])\n",
    "\n",
    "\n",
    "\n"
   ]
  },
  {
   "cell_type": "code",
   "execution_count": 91,
   "metadata": {},
   "outputs": [
    {
     "name": "stdout",
     "output_type": "stream",
     "text": [
      "[[ 0.66666667 -0.66666667]\n",
      " [ 0.33333333  0.66666667]\n",
      " [-0.66666667 -0.33333333]] \n",
      "\n",
      "[[3. 9.]\n",
      " [0. 6.]]\n"
     ]
    }
   ],
   "source": [
    "# Test case I\n",
    "np.set_printoptions(suppress=True) # Prints nicer numbers, you may ignore this\n",
    "\n",
    "A = np.array([[2,2], [1,7], [-2, -8]])\n",
    "Q, R = gram_schmidt_qr(A)\n",
    "print(Q, \"\\n\")\n",
    "print(R)"
   ]
  },
  {
   "cell_type": "markdown",
   "metadata": {
    "deletable": false,
    "editable": false,
    "nbgrader": {
     "cell_type": "markdown",
     "checksum": "1f1d5fd5ba7bcfed99d80c1611fe37b1",
     "grade": false,
     "grade_id": "cell-f57106649aec713f",
     "locked": true,
     "schema_version": 3,
     "solution": false,
     "task": false
    }
   },
   "source": [
    "Expected output:\n",
    "\n",
    "    [[ 0.66666667 -0.66666667]\n",
    "     [ 0.33333333  0.66666667]\n",
    "     [-0.66666667 -0.33333333]]\n",
    "     \n",
    "    [[3. 9.]\n",
    "     [0. 6.]]"
   ]
  },
  {
   "cell_type": "code",
   "execution_count": 92,
   "metadata": {},
   "outputs": [
    {
     "name": "stdout",
     "output_type": "stream",
     "text": [
      "[[-0.5  0.5  0.5]\n",
      " [ 0.5  0.5 -0.5]\n",
      " [ 0.5  0.5  0.5]\n",
      " [-0.5  0.5 -0.5]] \n",
      "\n",
      "[[ 2. -5.  2.]\n",
      " [ 0.  3. -2.]\n",
      " [ 0.  0.  2.]]\n"
     ]
    }
   ],
   "source": [
    "# Test case II\n",
    "B = np.array([[-1, 4, -1], [1, -1, -1], [1, -1, 1], [-1, 4, -3]])\n",
    "Q, R = gram_schmidt_qr(B)\n",
    "print(Q, \"\\n\")\n",
    "print(R)"
   ]
  },
  {
   "cell_type": "markdown",
   "metadata": {
    "deletable": false,
    "editable": false,
    "nbgrader": {
     "cell_type": "markdown",
     "checksum": "3da7e17e77a180ded754ea805886a869",
     "grade": false,
     "grade_id": "cell-c4365bd221da24cd",
     "locked": true,
     "schema_version": 3,
     "solution": false,
     "task": false
    }
   },
   "source": [
    "Expected output:\n",
    "\n",
    "    [[-0.5  0.5  0.5]\n",
    "     [ 0.5  0.5 -0.5]\n",
    "     [ 0.5  0.5  0.5]\n",
    "     [-0.5  0.5 -0.5]]\n",
    "     \n",
    "    [[ 2. -5.  2.]\n",
    "     [ 0.  3. -2.]\n",
    "     [ 0.  0.  2.]]"
   ]
  },
  {
   "cell_type": "code",
   "execution_count": 95,
   "metadata": {
    "deletable": false,
    "editable": false,
    "nbgrader": {
     "cell_type": "code",
     "checksum": "ac853e0a3481ffacaa358093769f3b9d",
     "grade": true,
     "grade_id": "cell-d5d9c67e49709725",
     "locked": true,
     "points": 3,
     "schema_version": 3,
     "solution": false,
     "task": false
    }
   },
   "outputs": [],
   "source": [
    "# AUTOGRADER\n",
    "A = np.array([[2,2], [1,7], [-2, -8]])\n",
    "Q, R = gram_schmidt_qr(A)\n",
    "Q_exact, R_exact = 1/3*np.array([[2, -2], [1, 2], [-2, -1]]), np.array([[3, 9], [0, 6]])\n",
    "\n",
    "assert np.allclose(Q, Q_exact)\n",
    "assert np.allclose(R, R_exact)\n",
    "\n",
    "B = np.array([[-1, 4, -1], [1, -1, -1], [1, -1, 1], [-1, 4, -3]])\n",
    "Q, R = gram_schmidt_qr(B)\n",
    "Q_exact, R_exact = 1/2 * np.array([[-1, 1, 1], [1, 1, -1], [1, 1, 1], [-1, 1, -1]]), np.array([[2, -5, 2], [0, 3, -2], [0, 0, 2]])\n",
    "\n",
    "assert np.allclose(Q, Q_exact)\n",
    "assert np.allclose(R, R_exact)\n"
   ]
  },
  {
   "cell_type": "markdown",
   "metadata": {
    "deletable": false,
    "editable": false,
    "nbgrader": {
     "cell_type": "markdown",
     "checksum": "89808e452a50576f3156d81565cee921",
     "grade": false,
     "grade_id": "cell-04cc0ff2889d80db",
     "locked": true,
     "schema_version": 3,
     "solution": false,
     "task": false
    }
   },
   "source": [
    "## Householder Triangularization\n",
    "\n",
    "Another principal method for computing QR factorizations is Householder triangularization, which is numerically more stable than Gram-Schmidt orthogonalization. The Householder algorithm is a process of \"orthogonal triangularization\", making a matrix triangular by a sequence of orthogonal matrix operations. \n",
    "\n",
    "In contrast to the Gram-Schmidt iteration which applies a succession of elementary triangular matrices $R_i$ on the right of $A$ resulting in an orthogonal matrix, the Householder method applies a succession of elementary orthogonal matrices $Q_i$ on the left of $A$ so that the resulting matrix\n",
    "$$Q_m \\dots Q_2 Q_1 A = R$$\n",
    "is upper-triangular. The product $Q = Q_1^T Q_2^T \\dots Q_m^T$ is also orthogonal, and therefore $A = QR$ is our $QR$ factorization of $A$. We can summarize this method as orthogonal triangularization. \n",
    "\n",
    "At the heart of the Householder method are orthogonal matrices $Q_i$ to introduce zeroes as indicated below. In these matrices, the symbol $\\times$ represents an entry that is not necesssarily zero, and boldfacing them indicates an entry that has just been changed. Blank entries are zero. \n",
    "\n",
    "$$\\begin{bmatrix}\n",
    "\\times & \\times & \\times \\\\ \n",
    "\\times & \\times & \\times \\\\ \n",
    "\\times & \\times & \\times \\\\ \n",
    "\\times & \\times & \\times \\\\ \n",
    "\\times & \\times & \\times \n",
    "\\end{bmatrix} \\xrightarrow{Q_1} \\begin{bmatrix}\n",
    "\\pmb{\\times} & \\pmb{\\times} & \\pmb{\\times} \\\\ \n",
    "\\pmb{0} & \\pmb{\\times} & \\pmb{\\times} \\\\ \n",
    "\\pmb{0} & \\pmb{\\times} & \\pmb{\\times} \\\\ \n",
    "\\pmb{0} & \\pmb{\\times} & \\pmb{\\times} \\\\ \n",
    "\\pmb{0} & \\pmb{\\times} & \\pmb{\\times} \n",
    "\\end{bmatrix} \\xrightarrow{Q_2} \\begin{bmatrix}\n",
    "\\times & \\times & \\times \\\\ \n",
    " & \\pmb{\\times} & \\pmb{\\times} \\\\ \n",
    " & \\pmb{0} & \\pmb{\\times} \\\\ \n",
    " & \\pmb{0} & \\pmb{\\times} \\\\ \n",
    " & \\pmb{0} & \\pmb{\\times} \n",
    "\\end{bmatrix} \\xrightarrow{Q_3} \\begin{bmatrix}\n",
    "\\times & \\times & \\times \\\\ \n",
    " & \\times & \\times \\\\ \n",
    " &  & \\pmb{\\times} \\\\ \n",
    " &  & \\pmb{0} \\\\ \n",
    " &  & \\pmb{0} \n",
    "\\end{bmatrix}$$\n",
    "\n",
    "In general $Q_k$ operates on rows $k, \\dots, n$ and columns $k, \\dots, m$. At the beginning of step $k$, there is a block of zeroes in the first $k-1$ columns of these rows. The application of $Q_k$ forms linear combinations of these rows, and the linear combinations of the zero entries remain zero. \n",
    "\n",
    "### Householder Reflectors\n",
    "\n",
    "So how do we construct orthogonal matrices $Q_k$ to introduce zeroes as indicated above? The standard approach is as follows. Each $Q_k$ is chosen to be an orthogonal matrix of the form\n",
    "$$Q_k = \\begin{bmatrix} I & 0 \\\\ 0 & F \\end{bmatrix} \\label{eq_Q}\\tag{1},$$\n",
    "where $I$ is the $(k-1) \\times (k-1)$ identity matrix and $F$ is an $(n-k+1) \\times (n - k + 1)$ orthogonal matrix. The identity matrix will make sure that we don't alter the first $k-1$ columns that already have zeroes introduced in the right replaces, and multiplication by $F$ must introduce zeroes into the $k$th column. The Householder algorithm chooses $F$ to be a particular matrix called a *Householder reflector*. \n",
    "\n",
    "Suppose, at the beginning of step $k$, the entries $k, \\dots, n$ of the $k$th column are given by a vector $x \\in \\mathbb{R}^{n-k+1}$. To introduce the correct zeroes into the $k$th column, the Householder reflector $F$ should effect the  following map (recall an orthogonal matrix is length preserving):\n",
    "$$x = \\begin{bmatrix} \\times \\\\ \\times \\\\ \\vdots \\\\ \\times \\end{bmatrix} \\xrightarrow{F} Fx = \\begin{bmatrix} \\|x\\| \\\\ 0 \\\\ \\vdots \\\\ 0 \\end{bmatrix} = \\|x\\| e_1.$$\n",
    "(We shall modify this idea by a $\\pm$ sign in a moment). The idea for accomplishing this is indicated in the figure below. \n",
    "\n",
    "<img src=\"https://i.ibb.co/gRhhyzW/householder.png\" alt=\"householder\" border=\"0\" width=500></a>\n",
    "\n",
    "The reflector $F$ will reflect the space $\\mathbb{R}^{n-k+1}$ across the hyperplane $H$ orthogonal to the vector $v = \\|x\\|e_1 - x$. The formula for this reflection can be derived as follows. We know that the vector \n",
    "$$Py = \\left(I - \\frac{v v^T}{v^T v}\\right)y = y - v \\left(\\frac{v^T y}{v^T v}\\right) = y - \\frac{v}{\\|v\\|} \\left\\langle \\frac{v}{\\|v\\|}, y \\right\\rangle = y - \\langle u, y \\rangle u$$\n",
    "is the orthogonal projection of $y$ onto the space $H$. To reflect $y$ across $H$, we must not stop at this point; we must go exactly twice as far in the same direction. The reflection $Fy$ should therefore be\n",
    "$$Fy = \\left(I - 2\\frac{v v^T}{v^T v}\\right)y = y - 2v \\left(\\frac{v^T y}{v^T v}\\right).$$\n",
    "Hence the matrix $F$ is \n",
    "$$F = I - 2 \\frac{v v^T}{v^T v}, \\quad \\text{with} \\quad v = \\|x\\| e_1 - x.$$\n",
    "\n",
    "### The Better of Two Reflectors\n",
    "\n",
    "In the above figure we have simplified matters, for in fact, there are two Householder reflections that will introduce the zeroes needed. In the figure below two alternatives are represented by reflections across two different hyperplanes, $H^+$ and $H^-$. \n",
    "\n",
    "<img src=\"https://i.ibb.co/dDNSbS0/householder2.png\" alt=\"householder2\" border=\"0\" width=500></a>\n",
    "\n",
    "Mathematically either choice of sign is satisfactory. However, numerical stability (insensitivity to rounding errors) dictates that one choice should be taken rather than the other. For numerical stability, it is desirable to reflect $x$ to the vector $z \\|x\\| e_1$ that is not too close to $x$ itself. To achieve this, we can choose $z = -\\text{sign}(x_1)$, where $x_1$ denotes the first component of $x$, so that the reflection vector becomes $v = -\\text{sign}(x_1) \\|x\\| e_1 - x$, or upon clearing the factors $-1$,\n",
    "$$v = \\text{sign}(x_1) \\|x\\| e_1 + x.$$\n",
    "To make a complete prescription, we may arbitrarily impose the convention that $\\text{sign}(x_1) = 1$ if $x_1 = 0$. \n",
    "\n",
    "To see why the choice of sign makes a difference for stability, suppose that the angle between $H^+$ and the $e_1$-axis is very small. Then the vector $v = \\|x\\|e_1 - x$ is much smaller than $x$ or $\\|x\\|e_1$. Thus the calculation of $v$ represents a subtraction of nearby quantities and will tend to suffer from cancellation errors. By picking the opposite sign, we avoid such effects by ensuring that $\\|v\\|$ is never smaller than $\\|x\\|$. \n",
    "\n",
    "**Note**: In this QR factorization the rectangular $n \\times m$ ($n \\geq m$) matrix $A$ with linearly indepedent columns will be represented as a product\n",
    "$$A = QR, \\qquad \\text{or in matrix form} \\qquad \\begin{bmatrix}\\mid & \\mid & & \\mid \\\\ v_1 & v_2 & \\dots & v_m \\\\ \\mid & \\mid & & \\mid \\end{bmatrix} = \\begin{bmatrix}\\mid & \\mid & & \\mid \\\\ u_1 & u_2 & \\dots & u_n \\\\ \\mid & \\mid & & \\mid \\end{bmatrix} \\begin{bmatrix} r_{11} & r_{12} & \\dots & r_{1m} \\\\ & r_{22} & \\dots & r_{2m}\\\\ & & \\ddots & \\vdots \\\\ & & & r_{mm} \\\\ & & & \\end{bmatrix}$$\n",
    "where $Q$ is an orthogonal $n \\times n$ matrix and $R$ is an upper-triangular $n \\times m$ matrix. So when $A$ is not square, $R$ will contain extra rows of zeroes at the bottom. Moreover, we also allow for negative entries along the diagonal (as opposed to the QR factorization we obtain by applying the Gram-Schmidt process). "
   ]
  },
  {
   "cell_type": "markdown",
   "metadata": {
    "deletable": false,
    "editable": false,
    "nbgrader": {
     "cell_type": "markdown",
     "checksum": "87a10595dfc088b6793396280c649075",
     "grade": false,
     "grade_id": "cell-bf1a45aec0d00a98",
     "locked": true,
     "schema_version": 3,
     "solution": false,
     "task": false
    }
   },
   "source": [
    "## Problem 3: Householder QR Factorization (5 = 2 + 3 points)\n",
    "\n",
    "Implement both the functions `householder_reflector` and `householder_qr` below. \n",
    "\n",
    "**Hint**: The function [`np.outer`](https://numpy.org/doc/stable/reference/generated/numpy.outer.html) might be useful to compute $v v^T$ when we represent $v$ as a 1 dimensional array. The function [`np.linalg.norm`](https://numpy.org/doc/stable/reference/generated/numpy.linalg.norm.html) is useful to compute the norm of a vector. The function [`np.inner`](https://numpy.org/doc/stable/reference/generated/numpy.inner.html) is useful to compute the dot product of two vectors. \n",
    "\n",
    "You can multiply two 2 dimensional arrays (i.e. matrices) $A$ and $B$ by `A @ B` or by `np.matmul(A,B)`. You can compute the inverse of a matrix by [`np.lingalg.inv`](https://numpy.org/doc/stable/reference/generated/numpy.linalg.inv.html)."
   ]
  },
  {
   "cell_type": "code",
   "execution_count": 450,
   "metadata": {
    "deletable": false,
    "nbgrader": {
     "cell_type": "code",
     "checksum": "ad37a71a85c18301f766f6a95b589c39",
     "grade": false,
     "grade_id": "cell-8a9a226fce083228",
     "locked": false,
     "schema_version": 3,
     "solution": true,
     "task": false
    }
   },
   "outputs": [],
   "source": [
    "def sign(x):\n",
    "    \"\"\"\n",
    "    To be used in householder_qr below in the computation of\n",
    "        v = sign(x) * norm(x) * e_1 + x\n",
    "    \"\"\"\n",
    "    if(x >= 0):\n",
    "        return(1)\n",
    "    else:\n",
    "        return(-1)\n",
    "\n",
    "def householder_reflector(v, k, n):\n",
    "    \"\"\"\n",
    "    Returns the orthogonal n by n Householder reflector Q_k as described by equation (1) above,\n",
    "    corresponding to the hyperplane determined by the vector v.\n",
    "    \n",
    "    Parameters\n",
    "    ----------\n",
    "        v (ndarray): A 1 dimensional array of length n-k+1. \n",
    "        k (int): Denotes the required Householder reflector\n",
    "                 BEWARE THAT PYTHON INDEXING STARTS AT ZERO,\n",
    "                 THIS MIGHT BE CONFUSING WITH THE WAY Q_K IS\n",
    "                 NUMBERED.\n",
    "        n (int): Number of rows and columns of Q_k\n",
    "    \n",
    "    Returns\n",
    "    -------\n",
    "        Q_k (ndarray): A 2 dimensional n by n array. \n",
    "    \n",
    "    \"\"\"\n",
    "    \n",
    "    # YOUR CODE HERE\n",
    "    I=np.eye(k-1)\n",
    "    n_rows=np.ones((k-1,1), dtype=int)\n",
    "    n_col=np.zeros((1,n-k+1), dtype=int)\n",
    "    I_plus = np.concatenate([I, n_rows.dot(n_col)], axis=1)\n",
    "\n",
    "    vt=np.transpose([v])\n",
    "    a=v*vt\n",
    "    F=np.eye(n-k+1)-2*a/np.linalg.norm(a)\n",
    "    n_rows=np.ones((n-k+1,1), dtype=int)\n",
    "    n_col=np.zeros((1,k-1), dtype=int)\n",
    "    F_plus = np.concatenate([n_rows.dot(n_col), F], axis=1)\n",
    "    \n",
    "    Q_k=I_plus\n",
    "    for i in range(n-k+1):\n",
    "        Q_k=np.r_[Q_k, [F_plus[i]]]\n",
    "    return(Q_k)\n",
    "\n",
    "    \n",
    "def householder_qr(A):\n",
    "    \"\"\"\n",
    "    Computes a QR factorization of a matrix A by means of Householder\n",
    "    reflectors, where Q is an orthogonal matrix and R is upper-triangular. \n",
    "    \n",
    "    Parameters\n",
    "    ----------\n",
    "        A (ndarray): A two-dimensional array of size n by m with n >= m\n",
    "            whose columns are linearly independent\n",
    "    \n",
    "    Returns\n",
    "    -------\n",
    "        Q (ndarray): A two-dimensional array of size n by n\n",
    "        R (ndarray): A two-dimensional array of size n by m\n",
    "    \n",
    "    \"\"\"\n",
    "    \n",
    "    # YOUR CODE HERE\n",
    "    Ri = A\n",
    "    n, m = A.shape\n",
    "    Q = np.eye((n))\n",
    "    for i in range(1,n): \n",
    "        xi = Ri[:,i-1:i]\n",
    "        e1=np.r_[[[1]],np.zeros((n-i,1), dtype=float)]\n",
    "        \n",
    "        if i>1:\n",
    "            for j in range(i-1):\n",
    "                xi = np.delete(xi, 0, axis=0)\n",
    "        vi = np.linalg.norm(xi) * e1 * sign(xi[0,0]) + xi\n",
    "        vi = np.hstack(vi)\n",
    "        Qi = householder_reflector(vi,i,n)\n",
    "        Ri=Qi @ Ri\n",
    "        Q = Q @ Qi.T\n",
    "    R = Ri\n",
    "    return(Q, R)\n",
    "    "
   ]
  },
  {
   "cell_type": "code",
   "execution_count": 447,
   "metadata": {},
   "outputs": [
    {
     "name": "stdout",
     "output_type": "stream",
     "text": [
      "\n",
      "\n",
      " i= 1 \n",
      " xi \n",
      " [[-1]\n",
      " [ 1]\n",
      " [ 1]\n",
      " [-1]] \n",
      "\n",
      " vi \n",
      " [-3.  1.  1. -1.] \n",
      "\n",
      " Qi \n",
      " [[-0.5         0.5         0.5        -0.5       ]\n",
      " [ 0.5         0.83333333 -0.16666667  0.16666667]\n",
      " [ 0.5        -0.16666667  0.83333333  0.16666667]\n",
      " [-0.5         0.16666667  0.16666667  0.83333333]] \n",
      "\n",
      " Ri \n",
      " [[ 2. -5.  2.]\n",
      " [ 0.  2. -2.]\n",
      " [ 0.  2.  0.]\n",
      " [-0.  1. -2.]] \n",
      "\n",
      " Q \n",
      " [[-0.5         0.5         0.5        -0.5       ]\n",
      " [ 0.5         0.83333333 -0.16666667  0.16666667]\n",
      " [ 0.5        -0.16666667  0.83333333  0.16666667]\n",
      " [-0.5         0.16666667  0.16666667  0.83333333]] \n",
      "\n",
      "\n",
      "\n",
      "\n",
      " i= 2 \n",
      " xi \n",
      " [[2.]\n",
      " [2.]\n",
      " [1.]] \n",
      "\n",
      " vi \n",
      " [5. 2. 1.] \n",
      "\n",
      " Qi \n",
      " [[ 1.          0.          0.          0.        ]\n",
      " [ 0.         -0.66666667 -0.66666667 -0.33333333]\n",
      " [ 0.         -0.66666667  0.73333333 -0.13333333]\n",
      " [ 0.         -0.33333333 -0.13333333  0.93333333]] \n",
      "\n",
      " Ri \n",
      " [[ 2.  -5.   2. ]\n",
      " [-0.  -3.   2. ]\n",
      " [ 0.  -0.   1.6]\n",
      " [-0.   0.  -1.2]] \n",
      "\n",
      " Q \n",
      " [[-0.5 -0.5  0.1 -0.7]\n",
      " [ 0.5 -0.5 -0.7 -0.1]\n",
      " [ 0.5 -0.5  0.7  0.1]\n",
      " [-0.5 -0.5 -0.1  0.7]] \n",
      "\n",
      "\n",
      "\n",
      "\n",
      " i= 3 \n",
      " xi \n",
      " [[ 1.6]\n",
      " [-1.2]] \n",
      "\n",
      " vi \n",
      " [ 3.6 -1.2] \n",
      "\n",
      " Qi \n",
      " [[ 1.   0.   0.   0. ]\n",
      " [ 0.   1.   0.   0. ]\n",
      " [ 0.   0.  -0.8  0.6]\n",
      " [ 0.   0.   0.6  0.8]] \n",
      "\n",
      " Ri \n",
      " [[ 2. -5.  2.]\n",
      " [-0. -3.  2.]\n",
      " [-0.  0. -2.]\n",
      " [-0.  0.  0.]] \n",
      "\n",
      " Q \n",
      " [[-0.5 -0.5 -0.5 -0.5]\n",
      " [ 0.5 -0.5  0.5 -0.5]\n",
      " [ 0.5 -0.5 -0.5  0.5]\n",
      " [-0.5 -0.5  0.5  0.5]] \n",
      "\n",
      "\n"
     ]
    }
   ],
   "source": [
    "# You can use this code cell to play around with your function to make sure\n",
    "# it does what it is intended to do, i.e. to debug your code. \n",
    "#A = np.array([[-1,-1,1], [1,3,3], [-1, -1,5]])\n",
    "#A = np.array([[1, -1, 4], [1, 4, -2], [1, 4, 2], [1, -1, 0]])\n",
    "\n",
    "A= np.array([[-1, 4, -1], [1, -1, -1], [1, -1, 1], [-1, 4, -3]])\n",
    "\n",
    "n, m = A.shape\n",
    "Ri = A\n",
    "Q = np.eye((n))\n",
    "for i in range(1,n): \n",
    "    xi = Ri[:,i-1:i]\n",
    "    e1=np.r_[[[1]],np.zeros((n-i,1))]\n",
    "    if i>1:\n",
    "        for j in range(i-1):\n",
    "            xi = np.delete(xi, 0, axis=0)\n",
    "    #vi = xi - np.linalg.norm(xi) * e1 \n",
    "    vi = np.linalg.norm(xi) * e1 * sign(xi[0,0]) + xi\n",
    "    vi = np.hstack(vi)\n",
    "    Qi = householder_reflector(vi,i,n)\n",
    "    Ri=Qi @ Ri\n",
    "    Q = Q @ Qi\n",
    "    print(\"\\n\\n i=\", i, \"\\n xi \\n\", xi, \"\\n\\n vi \\n\", vi, \"\\n\\n Qi \\n\", Qi, \"\\n\\n Ri \\n\", Ri, \"\\n\\n Q \\n\", Q, \"\\n\\n\")\n",
    "R = Ri\n",
    "#print(R, \"\\n\\n Q \\n\", Q)\n",
    "    \n",
    "\n",
    "\n",
    "# A = np.array([[2,2], [1,7], [-2, -8]])\n",
    "# Q, R = householder_qr(A)\n",
    "# Q_exact, R_exact = 1/3*np.array([[-2, 2, 1], [-1, -2, 2], [2, 1, 2]]), np.array([[-3, -9], [0, -6], [0, 0]])\n",
    "# print(Q, \"\\n \\n\" ,R, \"\\n \\n\")\n",
    "# print(Q_exact, \"\\n \\n\" ,R_exact, \"\\n \\n\")\n",
    "    \n",
    "    \n",
    "\n",
    "# k=2\n",
    "# v = vi\n",
    "# I=np.eye(k-1)\n",
    "# n_rows=np.ones((k-1,1), dtype=int)\n",
    "# n_col=np.zeros((1,n-k+1), dtype=int)\n",
    "# I_plus = np.concatenate([I, n_rows.dot(n_col)], axis=1)\n",
    "\n",
    "# vt=np.transpose([v])\n",
    "# a=v*vt\n",
    "# print(\"check\")\n",
    "# print(np.eye(n-k+1),\"\\n\\n\", 2*a)\n",
    "# F=np.eye(n-k+1)-2*a/np.linalg.norm(a)\n",
    "# n_rows=np.ones((n-k+1,1), dtype=int)\n",
    "# n_col=np.zeros((1,k-1), dtype=int)\n",
    "# F_plus = np.concatenate([n_rows.dot(n_col), F], axis=1)\n",
    "    \n",
    "# Q_k=I_plus\n",
    "# for i in range(n-k+1):\n",
    "#     Q_k=np.r_[Q_k, [F_plus[i]]]\n",
    "# return(Q_k)\n"
   ]
  },
  {
   "cell_type": "code",
   "execution_count": 451,
   "metadata": {},
   "outputs": [
    {
     "name": "stdout",
     "output_type": "stream",
     "text": [
      "[[-0.66666667 -0.33333333  0.66666667]\n",
      " [-0.33333333  0.93333333  0.13333333]\n",
      " [ 0.66666667  0.13333333  0.73333333]] \n",
      "\n",
      "[[ 1.   0.   0. ]\n",
      " [ 0.  -0.8  0.6]\n",
      " [ 0.   0.6  0.8]]\n"
     ]
    }
   ],
   "source": [
    "# Test case for householder_reflector\n",
    "v1 = np.array([5, 1, -2])\n",
    "Q_1 = householder_reflector(v1, 1, 3)\n",
    "print(Q_1, \"\\n\")\n",
    "\n",
    "v2 = np.array([10.8, -3.6])\n",
    "Q_2 = householder_reflector(v2, 2, 3)\n",
    "print(Q_2)"
   ]
  },
  {
   "cell_type": "markdown",
   "metadata": {
    "deletable": false,
    "editable": false,
    "nbgrader": {
     "cell_type": "markdown",
     "checksum": "6543fc795d535535bd5f88a31a818aec",
     "grade": false,
     "grade_id": "cell-438a613fd46085cd",
     "locked": true,
     "schema_version": 3,
     "solution": false,
     "task": false
    }
   },
   "source": [
    "Expected output:\n",
    "\n",
    "    [[-0.66666667 -0.33333333  0.66666667]\n",
    "     [-0.33333333  0.93333333  0.13333333]\n",
    "     [ 0.66666667  0.13333333  0.73333333]]\n",
    "     \n",
    "    [[ 1.   0.   0. ]\n",
    "     [ 0.  -0.8  0.6]\n",
    "     [ 0.   0.6  0.8]]"
   ]
  },
  {
   "cell_type": "code",
   "execution_count": 452,
   "metadata": {},
   "outputs": [
    {
     "name": "stdout",
     "output_type": "stream",
     "text": [
      "[[-0.66666667  0.66666667  0.33333333]\n",
      " [-0.33333333 -0.66666667  0.66666667]\n",
      " [ 0.66666667  0.33333333  0.66666667]] \n",
      "\n",
      "[[-3. -9.]\n",
      " [-0. -6.]\n",
      " [-0.  0.]]\n"
     ]
    }
   ],
   "source": [
    "# Test case for householder_qr\n",
    "np.set_printoptions(suppress=True) # Prints nicer numbers, you may ignore this\n",
    "\n",
    "A = np.array([[2,2], [1,7], [-2, -8]])\n",
    "Q, R = householder_qr(A)\n",
    "print(Q, \"\\n\")\n",
    "print(R)"
   ]
  },
  {
   "cell_type": "markdown",
   "metadata": {
    "deletable": false,
    "editable": false,
    "nbgrader": {
     "cell_type": "markdown",
     "checksum": "ee76c890382b6782f13f9ecc9a28cb6c",
     "grade": false,
     "grade_id": "cell-f23606159gjx538k",
     "locked": true,
     "schema_version": 3,
     "solution": false,
     "task": false
    }
   },
   "source": [
    "Expected output:\n",
    "\n",
    "    [[-0.66666667  0.66666667  0.33333333]\n",
    "     [-0.33333333 -0.66666667  0.66666667]\n",
    "     [ 0.66666667  0.33333333  0.66666667]]\n",
    "     \n",
    "    [[-3. -9.]\n",
    "     [-0. -6.]\n",
    "     [-0.  0.]]"
   ]
  },
  {
   "cell_type": "code",
   "execution_count": 453,
   "metadata": {},
   "outputs": [
    {
     "name": "stdout",
     "output_type": "stream",
     "text": [
      "[[-0.5 -0.5 -0.5 -0.5]\n",
      " [ 0.5 -0.5  0.5 -0.5]\n",
      " [ 0.5 -0.5 -0.5  0.5]\n",
      " [-0.5 -0.5  0.5  0.5]] \n",
      "\n",
      "[[ 2. -5.  2.]\n",
      " [-0. -3.  2.]\n",
      " [-0.  0. -2.]\n",
      " [-0.  0.  0.]]\n"
     ]
    }
   ],
   "source": [
    "# Test case II\n",
    "B = np.array([[-1, 4, -1], [1, -1, -1], [1, -1, 1], [-1, 4, -3]])\n",
    "Q, R = householder_qr(B)\n",
    "print(Q, \"\\n\")\n",
    "print(R)"
   ]
  },
  {
   "cell_type": "markdown",
   "metadata": {
    "deletable": false,
    "editable": false,
    "nbgrader": {
     "cell_type": "markdown",
     "checksum": "efba98501c94e02190a30f6cd0b79ce1",
     "grade": false,
     "grade_id": "cell-c4715ed289da04kv",
     "locked": true,
     "schema_version": 3,
     "solution": false,
     "task": false
    }
   },
   "source": [
    "Expected output:\n",
    "\n",
    "    [[-0.5 -0.5 -0.5 -0.5]\n",
    "     [ 0.5 -0.5  0.5 -0.5]\n",
    "     [ 0.5 -0.5 -0.5  0.5]\n",
    "     [-0.5 -0.5  0.5  0.5]]\n",
    "     \n",
    "    [[ 2. -5.  2.]\n",
    "     [ 0. -3.  2.]\n",
    "     [ 0.  0. -2.]\n",
    "     [ 0. -0.  0.]]"
   ]
  },
  {
   "cell_type": "code",
   "execution_count": 176,
   "metadata": {
    "deletable": false,
    "editable": false,
    "nbgrader": {
     "cell_type": "code",
     "checksum": "3dcabbdddbeeb167c649900448882ecb",
     "grade": true,
     "grade_id": "cell-edb7ddd2e9b3151a",
     "locked": true,
     "points": 2,
     "schema_version": 3,
     "solution": false,
     "task": false
    }
   },
   "outputs": [],
   "source": [
    "# AUTOGRADER for householder_reflector\n",
    "v1 = np.array([5, 1, -2])\n",
    "Q_1 = householder_reflector(v1, 1, 3)\n",
    "assert np.allclose(Q_1, 1/15 * np.array([[-10, -5, 10], [-5, 14, 2], [10, 2, 11]]))\n",
    "\n",
    "v2 = np.array([10.8, -3.6])\n",
    "Q_2 = householder_reflector(v2, 2, 3)\n",
    "assert np.allclose(Q_2, 1/5 * np.array([[5, 0, 0], [0, -4, 3], [0, 3, 4]]))"
   ]
  },
  {
   "cell_type": "code",
   "execution_count": 454,
   "metadata": {
    "deletable": false,
    "editable": false,
    "nbgrader": {
     "cell_type": "code",
     "checksum": "80bc6a8712eb6841625f7ba4e90a917b",
     "grade": true,
     "grade_id": "cell-d8d9e67e40002561",
     "locked": true,
     "points": 3,
     "schema_version": 3,
     "solution": false,
     "task": false
    }
   },
   "outputs": [],
   "source": [
    "# AUTOGRADER for householder_qr\n",
    "A = np.array([[2,2], [1,7], [-2, -8]])\n",
    "Q, R = householder_qr(A)\n",
    "Q_exact, R_exact = 1/3*np.array([[-2, 2, 1], [-1, -2, 2], [2, 1, 2]]), np.array([[-3, -9], [0, -6], [0, 0]])\n",
    "\n",
    "assert np.allclose(Q, Q_exact)\n",
    "assert np.allclose(R, R_exact)\n",
    "\n",
    "B = np.array([[-1, 4, -1], [1, -1, -1], [1, -1, 1], [-1, 4, -3]])\n",
    "Q, R = householder_qr(B)\n",
    "\n",
    "Q_exact = 1/2 * np.array([[-1, -1, -1, -1], [1, -1, 1, -1], [1, -1, -1, 1], [-1, -1, 1, 1]]) \n",
    "R_exact = np.array([[2, -5, 2], [0, -3, 2], [0, 0, -2], [0, 0, 0]])\n",
    "\n",
    "assert np.allclose(Q, Q_exact)\n",
    "assert np.allclose(R, R_exact)\n"
   ]
  },
  {
   "cell_type": "markdown",
   "metadata": {
    "deletable": false,
    "editable": false,
    "nbgrader": {
     "cell_type": "markdown",
     "checksum": "543bd89c867f09b5ea4053dfea2746a9",
     "grade": false,
     "grade_id": "cell-e4209771b18ba267",
     "locked": true,
     "schema_version": 3,
     "solution": false,
     "task": false
    }
   },
   "source": [
    "## Optional: Modified Gram-Schmidt Algorithm and Triangular Orthogonalization\n",
    "### Feel free to skip.\n",
    "\n",
    "The classical Gram-Schmidt algorithm is numerically unstable, which means that when implemented on a computer, round-off errors can cause the output vectors to be significantly non-orthogonal. This instability can be improved with a small adjustment to the algorithm. In the literature this remedy is called the modified Gram-Schmidt method. Instead of doing\n",
    "$$v_k^\\perp = v_k - \\langle v_k, u_1 \\rangle u_1 - \\dots - \\langle v_k, u_{k-1}\\rangle u_{k-1}$$\n",
    "we do the orthogonalization step-by-step. The modified algorithm calculates $u_j$ by evaluating the following formulas in order:\n",
    "\\begin{align*}\n",
    "v_j^{(1)} &= v_j \\\\\n",
    "v_j^{(2)} &= v_j^{(1)} - \\langle v_j^{(1)}, u_1 \\rangle u_1 \\\\\n",
    "v_j^{(3)} &= v_j^{(2)} - \\langle v_j^{(2)}, u_2 \\rangle u_2 \\\\\n",
    "v_j^{(4)} &= v_j^{(3)} - \\langle v_j^{(3)}, u_3 \\rangle u_3 \\\\\n",
    "& ~~ \\vdots \\\\\n",
    "u_j = v_j^{(j)} &= v_j^{(j-1)} - \\langle v_j^{(j-1)}, u_{j-1} \\rangle u_{j-1}\n",
    "\\end{align*}\n",
    "\n",
    "Once a new $u_i$ is known, we can overwrite each $v_j^{(i)}$ to $v_j^{(i+1)}$ for each $j>i$. Each step of the modified Gram-Schmidt algorithm can be interpreted as a right-multiplication by a square upper-triangular matrix. For example, beginning with $A$, the first iteration multiplies the first column $v_1$ by $\\frac{1}{r_{11}} = \\frac{1}{\\|v_1\\|}$ and then subtracts $r_{1j} = \\langle v_j^{(1)}, u_1 \\rangle = \\frac{\\langle v_j, v_1 \\rangle}{\\|v_1\\|}$ times the result from each of the remaining columns $v_j$. This is equivalent to right-multiplication by a matrix $R_1$:\n",
    "\n",
    "$$AR_1 = \\begin{bmatrix}\\mid & \\mid & & \\mid \\\\ v_1 & v_2 & \\dots & v_m \\\\ \\mid & \\mid & & \\mid \\end{bmatrix} \\begin{bmatrix} \\frac{1}{r_{11}} & \\frac{-r_{12}}{r_{11}} & \\frac{-r_{13}}{r_{11}} & \\dots \\\\ & 1 &  & \\\\ & & 1 &  \\\\ & & & \\ddots \\end{bmatrix} = \\begin{bmatrix}\\mid & \\mid & & \\mid \\\\ u_1 & v_2^{(2)} & \\dots & v_m^{(2)} \\\\ \\mid & \\mid & & \\mid \\end{bmatrix}.$$\n",
    "\n",
    "Empty entries signify zeroes. In general, in step $i$ the algorithm subtracts $r_{ij}/r_{ii}$ times column $i$ of the current $A$ from columns $j > i$ and replaces column $i$ by $1/r_{ii}$ times itself. This corresponds to multiplication by an upper-triangular matrix $R_i$:\n",
    "$$R_2 = \\begin{bmatrix} 1 & & & \\\\ & \\frac{1}{r_{22}} & \\frac{-r_{23}}{r_{22}} & \\dots\\\\ & & 1 &  \\\\ & & & \\ddots \\end{bmatrix}, \\quad R_3 = \\begin{bmatrix} 1 & & & \\\\ & 1 & & \\\\ & & \\frac{1}{r_{33}} & \\dots \\\\ & & & \\ddots \\end{bmatrix}, \\quad \\dots$$\n",
    "Recall that\n",
    "\\begin{align*}\n",
    "r_{ii} &= \\| v_i^{(i)} \\|,  &&\\text{for } 1 \\leq i \\leq m;\\\\\n",
    "r_{ij} &= \\langle u_i, v_j^{(i)} \\rangle = \\frac{\\langle v_i^{(i)}, v_j^{(i)}\\rangle}{\\|v_i^{(i)}\\|},  &&\\text{for } 1 \\leq i < j \\leq m.\n",
    "\\end{align*}\n",
    "\n",
    "After $i$ multiplications we have\n",
    "$$A R_1 R_2 \\dots R_i = \\begin{bmatrix}\\mid & \\mid & & \\mid & \\mid & & \\mid \\\\ u_1 & u_2 & \\dots & u_i & v_{i+1}^{(i+1)} & \\dots & v_{m}^{(i+1)} \\\\ \\mid & \\mid & & \\mid & \\mid & & \\mid \\end{bmatrix}$$\n",
    "\n",
    "At the end of the iteration we have\n",
    "$$A R_1 R_2 \\dots R_n = Q,$$\n",
    "and equivalently $A = QR = Q (R_1 R_2 \\dots R_n)^{-1}.$ Hence the name triangular orthogonalization. "
   ]
  }
 ],
 "metadata": {
  "kernelspec": {
   "display_name": "Python 3 (ipykernel)",
   "language": "python",
   "name": "python3"
  },
  "language_info": {
   "codemirror_mode": {
    "name": "ipython",
    "version": 3
   },
   "file_extension": ".py",
   "mimetype": "text/x-python",
   "name": "python",
   "nbconvert_exporter": "python",
   "pygments_lexer": "ipython3",
   "version": "3.11.5"
  }
 },
 "nbformat": 4,
 "nbformat_minor": 4
}
