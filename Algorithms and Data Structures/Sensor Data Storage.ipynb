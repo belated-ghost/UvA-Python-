{
 "cells": [
  {
   "cell_type": "markdown",
   "metadata": {},
   "source": [
    "# Algorithms and Data Structures with Python - Assignment 1\n",
    "\n",
    "University of Amsterdam / Faculty of Economics and Business\n",
    "\n",
    "Bachelor Business Analytics Y2 2024-2025\n",
    "\n",
    "Author: [Julien Rossi](mailto:j.rossi@uva.nl)"
   ]
  },
  {
   "cell_type": "markdown",
   "metadata": {},
   "source": [
    "* This assignment is made for auto-grading with CodeGrade in Canvas\n",
    "* **DO NOT CHANGE COMMENTS** such as: `# CodeGrade Tag Question1`\n",
    "* tampering with these comments will result in a diminished grade\n",
    "* Answers have to be put in the one single cell that has such comments\n",
    "* During debugging, you are free to use as many cells as you want\n",
    "* At grading time, CodeGrade will only consider these few cells"
   ]
  },
  {
   "cell_type": "markdown",
   "metadata": {},
   "source": [
    "# Reference Material\n",
    "* ITP Week 1 for function definitions, type hinting\n",
    "* ITP Week 2 for class and attributes, type hinting\n",
    "* ITP Week 3 for dunder methods\n",
    "* ADS Tutorial 1 for `@dataclass` and `field` usage\n",
    "* ADS Lecture 2, 3, 4 for sequences, deque, sorting, using sorted lists\n",
    "* ADS Lecture 2 for \"how to do a stack\"\n",
    "* ADS Lecture 5 for hashing\n",
    "* Python general manual for list and string manipulation (insertion, slicing, iteration with `for`)\n",
    "* Python general manual for iterating and branching (`for`, `continue`, `break`, `if`, `while`)"
   ]
  },
  {
   "cell_type": "markdown",
   "metadata": {},
   "source": [
    "# Question 1 - Sensor Data Storage (40 points)"
   ]
  },
  {
   "cell_type": "markdown",
   "metadata": {},
   "source": [
    "## Storyline\n",
    "* You work at bakery factory, where different sorts of cakes and cookies are produced.\n",
    "* The factory floor is equipped with a large industrial oven\n",
    "* As part of the monitoring, you collect data about this oven\n",
    "* The oven is equipped with multiple sensors\n",
    "  * temperature: there are 10 temperature sensors at different locations IN the oven (unit: Celsius)\n",
    "  * instant power usage: measured on the power line (unit: W)\n",
    "* A small industrial computer (Raspberry Pi) collects the measurements (one sample per second)\n",
    "* They are transmitted over the network\n",
    "* For technical reasons, the whole setup does not guarantee that the data will arrive at your computer in the same order as the order it was sent\n",
    "* Timestamps are stored as strings: `20230831124530` means August 31 2023, 12:45:30.\n"
   ]
  },
  {
   "cell_type": "markdown",
   "metadata": {},
   "source": [
    "## Assignment\n",
    "* Code a class named `Record`, which represents one measurement\n",
    "  * use `dataclass`\n",
    "  * the attributes for this class are `time` (a string), `sensor` (string), `unit` (string), `value` (float)\n",
    "  * implements the operator `<=` (see documentation and ITP for which dunder method it is)\n",
    "    * a record is less than another one when its sensor name is less than, or (if both records have the same sensor name) its timestamp is less than\n",
    "\n",
    "* We want to have a data structure that has the following operations:\n",
    "  * The data structure can be built empty without any argument\n",
    "  * We see it as a collection of records (object of class `Record`)\n",
    "  * We can easily insert a new record into this collection with the operation `record`\n",
    "  * We can retrieve the list of all records for one sensor, sorted in chronological order\n",
    "  * We are able to retrieve records based on the timestamp and the sensor\n",
    "  * We are able to retrieve the timestamp of the highest value measured on a specific sensor\n",
    "  * We can retrieve a list of timestamps where the value of one sensor is above a certain value\n",
    "\n",
    "* Code a data structure named `Quicksort`, code the operations\n",
    "  * use `dataclass`, see the tutorial notes for help\n",
    "  * `build_empty`: the constructor of Quicksort takes no argument\n",
    "  * `record`: (method) adds a new object of class `Record` to the Quicksort\n",
    "  * `sensor`: (method) argument is `sensor`, retrieves all records for a sensor. If no data for this sensor exists, return the empty list\n",
    "  * `values_at_time`: \n",
    "    * implements the Python operator `[]` \n",
    "    * argument is a tuple `(timestamp, sensor)`\n",
    "    * retrieve one record from this sensor at this timestamp, None if there is no such record\n",
    "  * `highest`: requires a `sensor` name, returns the record with the highest value for this sensor, None if there is no record for this sensor\n",
    "  * `above_threshold`: requires a `sensor` name and a `threshold` value"
   ]
  },
  {
   "cell_type": "markdown",
   "metadata": {},
   "source": [
    "## What you deliver\n",
    "* class `Record`, using `@dataclass`, with attributes having the correct name and correct type, with the dunder method for `<=`\n",
    "* class `Quicksort`, using `@dataclass`, with atttributes of correct name and type, with a constructor that takes no argument, methods with correct names and argument names, dunder method corresponding to the operator `[]`"
   ]
  },
  {
   "cell_type": "markdown",
   "metadata": {},
   "source": [
    "## How to\n",
    "* Respect all method / attributes / arguments names given in the assignment\n",
    "* The class `Quicksort` will have attributes that are not part of the constructor\n",
    "* See the tutorial notes for help \n",
    "* Quicksort will maintain the following list:\n",
    "  * `by_sensor_timestamp`: the list is sorted in ascending order of `sensor` first, `timestamp` second\n",
    "* This means that `record` will take care to insert the new record at the right place in this list\n",
    "* The operation `values_at_time` will work in 2 steps:\n",
    "  * collect the list of records for the given sensor (use operation `sensor`)\n",
    "  * it is sorted by timestamp ascending (see points above)\n",
    "* The operation `highest` will work in 2 steps:\n",
    "  * collect the list of records for the given sensor\n",
    "  * sort it by value ascending\n",
    "* Take advantage of the fact that `by_sensor_timestamp` is sorted to accelerate the operations\n",
    "* do not use `sorted`"
   ]
  },
  {
   "cell_type": "markdown",
   "metadata": {},
   "source": [
    "## Grading\n",
    "\n",
    "Lines refer to the line numbers within the cell \"Self-Test\". \n",
    "\n",
    "Question | Description | Self-test Lines | Points\n",
    "---|---|---:|---:\n",
    "Q1.1 | Class `Record` is well-defined | 3-15 | 5\n",
    "Q1.2 | Class `Quicksort` is well-defined | 17-21 | 5\n",
    "Q1.3 | Operation `record` | 23-43 | 5\n",
    "Q1.4 | Operation `sensor` | 45-49 | 5\n",
    "Q1.5 | Operation `values_at_time` | 52-54 | 5\n",
    "Q1.6 | Operation `highest` | 57 | 5\n",
    "Q1.7 | Operation `above_threshold` | 59 | 5\n",
    "Q1.8 | Timing of `sensor` | 61-68 | 5\n",
    "**TOTAL** | | | **40**"
   ]
  },
  {
   "cell_type": "code",
   "execution_count": 135,
   "metadata": {},
   "outputs": [],
   "source": [
    "# CodeGrade Tag Question1\n",
    "\n",
    "# Write your solution in one single cell:\n",
    "# imports\n",
    "# class Record \n",
    "# class Quicksort\n",
    "\n",
    "from dataclasses import dataclass\n",
    "from dataclasses import field\n",
    "from operator import attrgetter\n",
    "from collections import deque\n",
    "from typing import List\n",
    "\n",
    "@dataclass\n",
    "class Record:\n",
    "    time: str\n",
    "    sensor: str\n",
    "    unit: str\n",
    "    value: float\n",
    "\n",
    "    def __le__(self, other):\n",
    "        return((self.sensor == other.sensor and self.time < other.time) or (self.sensor < other.sensor))\n",
    "\n",
    "@dataclass\n",
    "class Quicksort:\n",
    "    def __post_init__(self) -> None:\n",
    "        self.by_sensor_timestamp: list[Record] = []\n",
    "\n",
    "    def record(self, record: Record):\n",
    "        \n",
    "\n",
    "        # self.by_sensor_timestamp.append(record)\n",
    "        # n = len(self.by_sensor_timestamp)\n",
    "        # for i in range(n-1):\n",
    "        #     for j in range(n-1):\n",
    "        #         if self.by_sensor_timestamp[j].sensor > self.by_sensor_timestamp[j+1].sensor:\n",
    "        #             self.by_sensor_timestamp[j], self.by_sensor_timestamp[j+1] = self.by_sensor_timestamp[j+1], self.by_sensor_timestamp[j]\n",
    "        # for i in range(n-1):    \n",
    "        #     for j in range(n-1):\n",
    "        #         if self.by_sensor_timestamp[j].sensor == self.by_sensor_timestamp[j+1].sensor and self.by_sensor_timestamp[j].time > self.by_sensor_timestamp[j+1].time:\n",
    "        #             self.by_sensor_timestamp[j], self.by_sensor_timestamp[j+1] = self.by_sensor_timestamp[j+1], self.by_sensor_timestamp[j]\n",
    "        n=len(self.by_sensor_timestamp)\n",
    "        check = False\n",
    "        if self.by_sensor_timestamp == []:\n",
    "            self.by_sensor_timestamp.append(record)\n",
    "            check=\"first record\"\n",
    "        else:\n",
    "            for i in range(n):\n",
    "                if record.sensor < self.by_sensor_timestamp[i].sensor:\n",
    "                    self.by_sensor_timestamp.insert(i, record)\n",
    "                    check=\"rec sens < sens\"\n",
    "                    break\n",
    "                elif (record.sensor == self.by_sensor_timestamp[i].sensor and record.time < self.by_sensor_timestamp[i].time) or (i>1 and i<n-1 and record.sensor != self.by_sensor_timestamp[i+1].sensor and record.sensor == self.by_sensor_timestamp[i].sensor):\n",
    "                    self.by_sensor_timestamp.insert(i, record)\n",
    "                    check=\"sens = sens\"\n",
    "                    break\n",
    "        if check == False:\n",
    "            self.by_sensor_timestamp.append(record)\n",
    "        #print(check, self.by_sensor_timestamp)\n",
    "                \n",
    "    \n",
    "    def sensor(self, sensor):\n",
    "        sensor_match = []\n",
    "        for i in self.by_sensor_timestamp:\n",
    "            if i.sensor == sensor:\n",
    "                sensor_match.append(i)\n",
    "            elif i.sensor != sensor and sensor_match != []:\n",
    "                break\n",
    "        return(sensor_match)\n",
    "    \n",
    "    def __getitem__ (self, tup):\n",
    "        found = None\n",
    "        for i in self.by_sensor_timestamp:\n",
    "            if i.sensor == tup[1] and i.time == tup[0]:\n",
    "                found=i\n",
    "                break\n",
    "        return (found)\n",
    "    \n",
    "    def highest(self, sensor):\n",
    "        records = []\n",
    "        for i in self.by_sensor_timestamp:\n",
    "            if i.sensor == sensor:\n",
    "                 records.append(i)\n",
    "            elif i.sensor != sensor and records != []:\n",
    "                break\n",
    "        n = len(records)\n",
    "\n",
    "        # values=[]\n",
    "        # for i in records:\n",
    "        #     values.append(i.value)\n",
    "        # min_value = min(values)\n",
    "\n",
    "        # sorted_records = []\n",
    "        # for i in range(n):\n",
    "        #     if sorted_records == []:\n",
    "        #         sorted_records.append(records[i])\n",
    "        #     else:\n",
    "        #         if records[i].value < sorted.records[]\n",
    "    \n",
    "        # for i in range(n-1):\n",
    "        #     if records[i].value > records[i+1].value:\n",
    "        #         records[i], records[i+1] = records[i+1], records[i]\n",
    "        # return(records[n-1])\n",
    "\n",
    "        for i in range(n-1):\n",
    "            for j in range(n-1):\n",
    "                if records[j].value > records[j+1].value:\n",
    "                    records[j], records[j+1] = records[j+1], records[j]\n",
    "        return(records[n-1])\n",
    "        \n",
    "        # values=[]\n",
    "        # check = False\n",
    "        # for i in self.by_sensor_timestamp:\n",
    "        #     values.append(i.value)\n",
    "        # min_value = min(values)\n",
    "        # for i in self.by_sensor_timestamp:\n",
    "        #     if i.sensor == sensor and i.value > min_value:\n",
    "        #         min_value = i.value\n",
    "        #         check = True\n",
    "        #         record = i\n",
    "        #     elif i.sensor != sensor and values != []:\n",
    "        #          break\n",
    "        # if check == False:\n",
    "        #     return(None)\n",
    "        # else:\n",
    "        #     return(record)\n",
    "        \n",
    "    def above_threshold(self, sensor, threshold):\n",
    "        timestamps_match = []\n",
    "        for i in self.by_sensor_timestamp:\n",
    "            if i.sensor == sensor and i.value>threshold:\n",
    "                timestamps_match.append(i)\n",
    "        return(timestamps_match)\n"
   ]
  },
  {
   "cell_type": "markdown",
   "metadata": {},
   "source": [
    "## Self-Test"
   ]
  },
  {
   "cell_type": "code",
   "execution_count": 97,
   "metadata": {},
   "outputs": [],
   "source": [
    "def sorted(*args, **kwargs):\n",
    "    raise AssertionError(\"Do not use sorted()\")"
   ]
  },
  {
   "cell_type": "code",
   "execution_count": 133,
   "metadata": {},
   "outputs": [
    {
     "ename": "AssertionError",
     "evalue": "",
     "output_type": "error",
     "traceback": [
      "\u001b[1;31m---------------------------------------------------------------------------\u001b[0m",
      "\u001b[1;31mAssertionError\u001b[0m                            Traceback (most recent call last)",
      "Cell \u001b[1;32mIn[133], line 25\u001b[0m\n\u001b[0;32m     23\u001b[0m q\u001b[38;5;241m.\u001b[39mrecord(r1)\n\u001b[0;32m     24\u001b[0m q\u001b[38;5;241m.\u001b[39mrecord(r2)\n\u001b[1;32m---> 25\u001b[0m \u001b[38;5;28;01massert\u001b[39;00m q\u001b[38;5;241m.\u001b[39mby_sensor_timestamp \u001b[38;5;241m==\u001b[39m [r1, r2]\n\u001b[0;32m     27\u001b[0m q\u001b[38;5;241m.\u001b[39mrecord(r3)\n\u001b[0;32m     28\u001b[0m \u001b[38;5;28;01massert\u001b[39;00m q\u001b[38;5;241m.\u001b[39mby_sensor_timestamp \u001b[38;5;241m==\u001b[39m [r1, r2, r3]\n",
      "\u001b[1;31mAssertionError\u001b[0m: "
     ]
    }
   ],
   "source": [
    "from dataclasses import is_dataclass\n",
    "\n",
    "assert is_dataclass(Record)\n",
    "\n",
    "r1 = Record(time=\"20230801120000\", sensor=\"t1\", unit=\"C\", value=95.4)\n",
    "r2 = Record(time=\"20230801120001\", sensor=\"t1\", unit=\"C\", value=94.4)\n",
    "r3 = Record(time=\"20230801120000\", sensor=\"t2\", unit=\"C\", value=90.2)\n",
    "r4 = Record(time=\"20230801120004\", sensor=\"t1\", unit=\"C\", value=97.1)\n",
    "r5 = Record(time=\"20230801120002\", sensor=\"t1\", unit=\"C\", value=96.9)\n",
    "r6 = Record(time=\"20230801120002\", sensor=\"t2\", unit=\"C\", value=91.9)\n",
    "r7 = Record(time=\"20230801120003\", sensor=\"t1\", unit=\"C\", value=98.4)\n",
    "r8 = Record(time=\"20230801120001\", sensor=\"t2\", unit=\"C\", value=92.4)\n",
    "\n",
    "assert r1 <= r2\n",
    "assert r7 <= r8\n",
    "\n",
    "assert is_dataclass(Quicksort)\n",
    "q = Quicksort()\n",
    "q2 = Quicksort()\n",
    "\n",
    "assert q.by_sensor_timestamp is not q2.by_sensor_timestamp\n",
    "\n",
    "q.record(r1)\n",
    "q.record(r2)\n",
    "assert q.by_sensor_timestamp == [r1, r2]\n",
    "\n",
    "q.record(r3)\n",
    "assert q.by_sensor_timestamp == [r1, r2, r3]\n",
    "\n",
    "q.record(r4)\n",
    "assert q.by_sensor_timestamp == [r1, r2, r4, r3]\n",
    "\n",
    "q.record(r5)\n",
    "assert q.by_sensor_timestamp == [r1, r2, r5, r4, r3]\n",
    "\n",
    "q.record(r6)\n",
    "assert q.by_sensor_timestamp == [r1, r2, r5, r4, r3, r6]\n",
    "\n",
    "q.record(r7)\n",
    "assert q.by_sensor_timestamp == [r1, r2, r5, r7, r4, r3, r6]\n",
    "\n",
    "q.record(r8)\n",
    "assert q.by_sensor_timestamp == [r1, r2, r5, r7, r4, r3, r8, r6]\n",
    "\n",
    "s = q.sensor(sensor=\"t3\")\n",
    "assert s == []\n",
    "\n",
    "s = q.sensor(sensor=\"t1\")\n",
    "assert s == [r1, r2, r5, r7, r4]\n",
    "\n",
    "\n",
    "assert(q[(\"20230101000000\", \"t1\")] is None)\n",
    "assert(q[(\"20230801120004\", \"t8\")] is None)\n",
    "assert(q[(\"20230801120004\", \"t1\")] is r4)\n",
    "\n",
    "\n",
    "assert(q.highest(sensor=\"t1\") == r7)\n",
    "\n",
    "assert(q.above_threshold(sensor=\"t2\", threshold=91.0)) == [r8, r6]\n",
    "\n",
    "q = Quicksort()\n",
    "q.by_sensor_timestamp = [Record(time=\"20230101000000\", sensor=\"t1\", unit=\"C\", value=90)] * 10 + [Record(time=\"20230101000000\", sensor=\"t2\", unit=\"C\", value=90)] * int(1e8)\n",
    "\n",
    "import time\n",
    "start = time.time()\n",
    "_ = q.sensor(\"t1\")\n",
    "end = time.time()\n",
    "assert(end - start < 1e-1)  # under 0.1 second (took 1e-4 on my laptop)\n",
    "\n",
    "print(\"✅ Self-Test OK\")\n"
   ]
  },
  {
   "cell_type": "markdown",
   "metadata": {},
   "source": [
    "## Speed Test\n",
    "\n",
    "* Run this cell to get an idea of how efficient your solution is.\n",
    "* Based on the instructions, the slowest operation is the insertion\n"
   ]
  },
  {
   "cell_type": "code",
   "execution_count": 99,
   "metadata": {},
   "outputs": [
    {
     "name": "stderr",
     "output_type": "stream",
     "text": [
      "100%|██████████| 10000/10000 [00:07<00:00, 1258.51it/s]\n"
     ]
    }
   ],
   "source": [
    "# load test\n",
    "import random \n",
    "import tqdm\n",
    "\n",
    "q = Quicksort()\n",
    "\n",
    "# Add 10000 records (took 6s on my laptop)\n",
    "for i in tqdm.tqdm(range(int(1e4))):\n",
    "    q.record(Record(time=f\"2023010100{random.randint(0, 9999):04d}\", sensor=f\"b{random.randint(0,9)}\", unit=\"C\", value=random.randint(100, 100000)))\n"
   ]
  },
  {
   "cell_type": "code",
   "execution_count": 100,
   "metadata": {},
   "outputs": [
    {
     "name": "stderr",
     "output_type": "stream",
     "text": [
      "100%|██████████| 10000/10000 [00:13<00:00, 741.99it/s]\n"
     ]
    }
   ],
   "source": [
    "# Took 5s on my laptop\n",
    "for _ in tqdm.tqdm(range(int(1e4))):\n",
    "    time = f\"{random.randint(0, 23):02d}{random.randint(0, 59):02d}{random.randint(0, 59):02d}\"\n",
    "    sensor = f\"t{random.randint(0, 19)}\"\n",
    "    _ = q[(time, sensor)]"
   ]
  },
  {
   "cell_type": "markdown",
   "metadata": {},
   "source": [
    "# Question 2 - Improvement by Indexing (40 points)"
   ]
  },
  {
   "cell_type": "markdown",
   "metadata": {},
   "source": [
    "## Storyline\n",
    "\n",
    "* We keep working in the same environment\n",
    "* We have observed that the insertion time is too high\n",
    "* As we have some memory available, we will use different methods for storage\n",
    "  * They have to be efficient for insertion (we insert new records all day long)\n",
    "  * They have to be efficient for retrieval (we retrieval data very regularly)\n",
    "* We also want to schedule data acquisition:\n",
    "  * incoming data should land in a buffer zone\n",
    "  * we can run data insertion from time to time, and not each time a new record comes in"
   ]
  },
  {
   "cell_type": "markdown",
   "metadata": {},
   "source": [
    "## Assignment\n",
    "* Define a function `timehash` that receives one argument `timestamp` (string) and returns an integer\n",
    "  * the timestamp will always look like `YYYYMMDDHHMMSS`\n",
    "  * the return value is the number of seconds represented by `HHMMSS`\n",
    "  * it is given by the formula `HH*60*60 + MM*60 + SS`\n",
    "* Re-define the class `Record` from Question 1\n",
    "  * No need to implement the operator `<`\n",
    "  * add the method so that `hash(r)` returns the number of seconds since 00:00:00\n",
    "  * example: the timestamp is `\"20230901090203\"`, so September 1 2023, 09:02:03\n",
    "  * the hash value is then `9*60*60 + 2*60 + 3 = 32523`\n",
    "  * Use the function `timehash`\n",
    "* Define a new data structure `Facebook` with the following operations:\n",
    "  * It can be built empty with 2 arguments: \n",
    "    * the list of accepted sensor names, named `accepted_sensors`\n",
    "    * the date for which it holds records, named `day`. It is a string such as `20230901` for September 1 2023\n",
    "  * The `record` operation stores one incoming record on top of a **STACK** named `incoming`\n",
    "    * only accepts records for which the date corresponds to the datastructure's `day`\n",
    "    * only accepts records for which the sensor corresponds to one of the members of the `accepted_sensors` list\n",
    "    * return `True` if the record is accepted, `False` otherwise\n",
    "  * The `incoming_size` operation returns the number of records in the `incoming` stack\n",
    "  * The `cancel` operation receives `delete` a number of records it has to delete from the `incoming` stack\n",
    "  * The `insert` operation will insert all the records of the `incoming` stack in the database (more about the database below)\n",
    "  * The `value_at_time` operation retrieves the record from the database associated to a sensor name and a timestamp\n",
    "    * it is implemented as the `[]` operator that receives a tuple `(sensor, timestamp)`\n",
    "    * if the sensor does not exist, or the record does not exist, return `None`\n",
    "\n",
    "* The data structure `Facebook` has a database that works like this:\n",
    "  * It has an attribute `database` which is a dictionary\n",
    "  * There is one key in `database` per accepted sensor\n",
    "  * The value associated to each key is a list of records\n",
    "  * This list of records is a fixed-size list of size `24*60*60 = 86400`\n",
    "  * The initialization of `database` takes place at the construction time\n",
    "  * The lists of records are initialized as lists containing 86400 times `None`\n",
    "\n",
    "* Inserting a record into the database works like this:\n",
    "```\n",
    "Given a record R\n",
    "\n",
    "Compute its hash H\n",
    "Set the item at index H in the list database[sensor name] to be the record R\n",
    "\n",
    "```\n",
    "* No insertion in the list\n",
    "* After inserting the record, the list has the same length as before\n",
    "* Only the value at index `H` is no longer `None`\n"
   ]
  },
  {
   "cell_type": "markdown",
   "metadata": {},
   "source": [
    "## What you deliver\n",
    "* function `timehash` with correct argument names\n",
    "* class `Record`, using `@dataclass`, with attributes having the correct name and correct type, with the dunder method for `hash(x)`\n",
    "* class `Facebook`, using `@dataclass`, with atttributes of correct name and type, with a constructor that takes no argument, methods with correct names and argument names, dunder method corresponding to the operator `[]`"
   ]
  },
  {
   "cell_type": "markdown",
   "metadata": {},
   "source": [
    "## Grading\n",
    "\n",
    "Lines refer to the line numbers within the cell \"Self-Test\". \n",
    "\n",
    "Question| Description | Self-test Lines | Points\n",
    "---|---|---:|---:\n",
    "Q2.1 | Function `timehash` is well-defined | 3 | 5\n",
    "Q2.2 | Class `Record` is well-defined | 3-15 | 5\n",
    "Q2.3 | Class `Facebook` is well-defined | 17-27 | 5\n",
    "Q2.4 | Operation `record` | 40-42 | 5\n",
    "Q2.5 | Operation `incoming_size` | 44 | 5\n",
    "Q2.6 | Operation `cancel` | 46-48 | 5\n",
    "Q2.7 | Operation `insert` | 50-62 | 5\n",
    "Q2.8 | Operation `value_at_time` | 64-66 | 5\n",
    "**TOTAL** | | | **40**"
   ]
  },
  {
   "cell_type": "code",
   "execution_count": 116,
   "metadata": {},
   "outputs": [],
   "source": [
    "# CodeGrade Tag Question2\n",
    "\n",
    "# Write your solution in one single cell:\n",
    "# imports\n",
    "# function timehash\n",
    "# class Record \n",
    "# class Facebook\n",
    "\n",
    "from dataclasses import dataclass\n",
    "from dataclasses import field\n",
    "from operator import attrgetter\n",
    "from collections import deque\n",
    "\n",
    "def timehash(timestamp: str) -> int:\n",
    "    hours = int(timestamp[8:10])\n",
    "    minutes = int(timestamp[10:12])\n",
    "    seconds = int(timestamp[12:14])\n",
    "    time = hours*3600 + minutes*60 + seconds\n",
    "    return(time)\n",
    "\n",
    "\n",
    "@dataclass\n",
    "class Record:\n",
    "    time: str\n",
    "    sensor: str\n",
    "    unit: str\n",
    "    value: float\n",
    "\n",
    "    def __hash__(self):\n",
    "        return(timehash(self.time))\n",
    "\n",
    "\n",
    "@dataclass\n",
    "class Facebook:\n",
    "    # accepted_sensors: list = field(default_factory=list)\n",
    "    # day: str =\"\"\n",
    "    # incoming: deque = deque()\n",
    "    # database: dict = {k:[None]*60*60*24 for (k, v) in (dict.fromkeys(accepted_sensors, None)).items()}\n",
    "\n",
    "\n",
    "    # def __init__(self) -> None:\n",
    "    def __init__(self, accepted_sensors = [], day = \"\") -> None:\n",
    "        self.accepted_sensors = accepted_sensors\n",
    "        self.day = day\n",
    "        self.incoming = deque()\n",
    "        base = dict.fromkeys(self.accepted_sensors, None)\n",
    "        self.database = {k:[None]*60*60*24 for (k, v) in base.items()}\n",
    "\n",
    "    \n",
    "    def record(self, record: Record):\n",
    "        if record.time[:8] == self.day and record.sensor in self.accepted_sensors:\n",
    "            self.incoming.appendleft(record)\n",
    "        return(record in self.incoming)\n",
    "    \n",
    "    def incoming_size(self):\n",
    "        return(len(self.incoming))\n",
    "    \n",
    "    def cancel(self, delete):\n",
    "        i = 0\n",
    "        while i<delete:\n",
    "            self.incoming.popleft()\n",
    "            i += 1\n",
    "        return(self.incoming)\n",
    "    \n",
    "    def insert(self):\n",
    "        for i in range(len(self.incoming)):\n",
    "            element = self.incoming.popleft()\n",
    "            H = hash(element)\n",
    "            r = element.sensor\n",
    "            self.database[r][H] = element\n",
    "\n",
    "    def __getitem__(self, tup: tuple):\n",
    "        time=timehash(tup[1])\n",
    "        if tup[0] not in self.accepted_sensors or time>86400:\n",
    "            return(None)\n",
    "        else:\n",
    "            return(self.database[tup[0]][time])\n"
   ]
  },
  {
   "cell_type": "markdown",
   "metadata": {},
   "source": [
    "## Self-test"
   ]
  },
  {
   "cell_type": "code",
   "execution_count": 112,
   "metadata": {},
   "outputs": [
    {
     "data": {
      "text/plain": [
       "Field(name=None,type=None,default=<dataclasses._MISSING_TYPE object at 0x000002AF40CFCED0>,default_factory=Field(name=None,type=None,default=<dataclasses._MISSING_TYPE object at 0x000002AF40CFCED0>,default_factory=<class 'list'>,init=True,repr=True,hash=None,compare=True,metadata=mappingproxy({}),kw_only=<dataclasses._MISSING_TYPE object at 0x000002AF40CFCED0>,_field_type=None),init=True,repr=True,hash=None,compare=True,metadata=mappingproxy({}),kw_only=<dataclasses._MISSING_TYPE object at 0x000002AF40CFCED0>,_field_type=None)"
      ]
     },
     "execution_count": 112,
     "metadata": {},
     "output_type": "execute_result"
    }
   ],
   "source": [
    "field(default_factory=list)\n"
   ]
  },
  {
   "cell_type": "code",
   "execution_count": null,
   "metadata": {},
   "outputs": [],
   "source": [
    "\n",
    "import numpy as np\n",
    "a=deque([None]*4)\n",
    "type(a)"
   ]
  },
  {
   "cell_type": "code",
   "execution_count": 115,
   "metadata": {},
   "outputs": [
    {
     "ename": "TypeError",
     "evalue": "Facebook.__init__() got an unexpected keyword argument 'accepted_sensors'",
     "output_type": "error",
     "traceback": [
      "\u001b[1;31m---------------------------------------------------------------------------\u001b[0m",
      "\u001b[1;31mTypeError\u001b[0m                                 Traceback (most recent call last)",
      "Cell \u001b[1;32mIn[115], line 18\u001b[0m\n\u001b[0;32m     15\u001b[0m \u001b[38;5;28;01massert\u001b[39;00m(\u001b[38;5;28mhash\u001b[39m(r1) \u001b[38;5;241m==\u001b[39m \u001b[38;5;241m43200\u001b[39m)\n\u001b[0;32m     17\u001b[0m \u001b[38;5;28;01massert\u001b[39;00m(is_dataclass(Facebook))\n\u001b[1;32m---> 18\u001b[0m q1 \u001b[38;5;241m=\u001b[39m \u001b[43mFacebook\u001b[49m\u001b[43m(\u001b[49m\u001b[43maccepted_sensors\u001b[49m\u001b[38;5;241;43m=\u001b[39;49m\u001b[43m[\u001b[49m\u001b[38;5;124;43m\"\u001b[39;49m\u001b[38;5;124;43mt1\u001b[39;49m\u001b[38;5;124;43m\"\u001b[39;49m\u001b[43m,\u001b[49m\u001b[43m \u001b[49m\u001b[38;5;124;43m\"\u001b[39;49m\u001b[38;5;124;43mt2\u001b[39;49m\u001b[38;5;124;43m\"\u001b[39;49m\u001b[43m]\u001b[49m\u001b[43m,\u001b[49m\u001b[43m \u001b[49m\u001b[43mday\u001b[49m\u001b[38;5;241;43m=\u001b[39;49m\u001b[38;5;124;43m\"\u001b[39;49m\u001b[38;5;124;43m20230801\u001b[39;49m\u001b[38;5;124;43m\"\u001b[39;49m\u001b[43m)\u001b[49m\n\u001b[0;32m     19\u001b[0m q2 \u001b[38;5;241m=\u001b[39m Facebook(accepted_sensors\u001b[38;5;241m=\u001b[39m[\u001b[38;5;124m\"\u001b[39m\u001b[38;5;124mt1\u001b[39m\u001b[38;5;124m\"\u001b[39m, \u001b[38;5;124m\"\u001b[39m\u001b[38;5;124mt3\u001b[39m\u001b[38;5;124m\"\u001b[39m], day\u001b[38;5;241m=\u001b[39m\u001b[38;5;124m\"\u001b[39m\u001b[38;5;124m20230801\u001b[39m\u001b[38;5;124m\"\u001b[39m)\n\u001b[0;32m     20\u001b[0m \u001b[38;5;28;01massert\u001b[39;00m q1\u001b[38;5;241m.\u001b[39mincoming \u001b[38;5;129;01mis\u001b[39;00m \u001b[38;5;129;01mnot\u001b[39;00m q2\u001b[38;5;241m.\u001b[39mincoming \n",
      "\u001b[1;31mTypeError\u001b[0m: Facebook.__init__() got an unexpected keyword argument 'accepted_sensors'"
     ]
    }
   ],
   "source": [
    "from dataclasses import is_dataclass\n",
    "\n",
    "assert(timehash(timestamp=\"20230408134523\")) == 49523\n",
    "\n",
    "assert(is_dataclass(Record))\n",
    "r1 = Record(time=\"20230801120000\", sensor=\"t1\", unit=\"C\", value=95.4)\n",
    "r2 = Record(time=\"20230802120001\", sensor=\"t3\", unit=\"C\", value=94.4)\n",
    "r3 = Record(time=\"20230801120000\", sensor=\"t2\", unit=\"C\", value=90.2)\n",
    "r4 = Record(time=\"20230801120004\", sensor=\"t1\", unit=\"C\", value=97.1)\n",
    "r5 = Record(time=\"20230801120002\", sensor=\"t1\", unit=\"C\", value=96.9)\n",
    "r6 = Record(time=\"20230802120002\", sensor=\"t2\", unit=\"C\", value=91.9)\n",
    "r7 = Record(time=\"20230801120003\", sensor=\"t1\", unit=\"C\", value=98.4)\n",
    "r8 = Record(time=\"20230801120001\", sensor=\"t2\", unit=\"C\", value=92.4)\n",
    "\n",
    "assert(hash(r1) == 43200)\n",
    "\n",
    "assert(is_dataclass(Facebook))\n",
    "q1 = Facebook(accepted_sensors=[\"t1\", \"t2\"], day=\"20230801\")\n",
    "q2 = Facebook(accepted_sensors=[\"t1\", \"t3\"], day=\"20230801\")\n",
    "assert q1.incoming is not q2.incoming \n",
    "assert q1.database is not q2.database\n",
    "\n",
    "q = Facebook(accepted_sensors=[\"t1\", \"t2\"], day=\"20230801\")\n",
    "assert(isinstance(q.database, dict))\n",
    "assert(set(q.database.keys()) == {\"t1\", \"t2\"})\n",
    "assert(isinstance(q.database[\"t1\"], list))\n",
    "assert(len(q.database[\"t1\"]) == 86400)\n",
    "assert(all(x is None for x in q.database[\"t1\"]))\n",
    "\n",
    "expected = [\n",
    "    (r1, True),\n",
    "    (r2, False),\n",
    "    (r3, True),\n",
    "    (r4, True),\n",
    "    (r5, True),\n",
    "    (r6, False),\n",
    "    (r7, True),\n",
    "    (r8, True),\n",
    "]\n",
    "\n",
    "for i, (r, expect) in enumerate(expected, start=1):\n",
    "    assert(q.record(r) is expect), f\"q.record(r{i}) should return {expect} but returned {not expect}\"\n",
    "assert(q.incoming == deque([r8, r7, r5, r4, r3, r1]))\n",
    "\n",
    "assert(q.incoming_size()) == 6\n",
    "\n",
    "q.cancel(2)\n",
    "assert(q.incoming_size()) == 4\n",
    "assert(q.incoming == deque([r5, r4, r3, r1]))\n",
    "\n",
    "q.insert()\n",
    "assert(q.incoming_size() == 0)\n",
    "assert(q.incoming == deque())\n",
    "assert(len(q.database[\"t1\"]) == 86400)\n",
    "assert(len(q.database[\"t2\"]) == 86400)\n",
    "assert(sum(x is not None for x in q.database[\"t1\"]) == 3)\n",
    "assert(sum(x is not None for x in q.database[\"t2\"]) == 1)\n",
    "\n",
    "t1 = q.database[\"t1\"]\n",
    "assert([t1[43200]] + [t1[43204]] + [t1[43202]] == [r1, r4, r5])\n",
    "\n",
    "t2 = q.database[\"t2\"]\n",
    "assert([t2[43200]] == [r3])\n",
    "\n",
    "assert q[(\"t1\", \"20230801120004\")] is r4\n",
    "assert q[(\"t1\", \"20230801120012\")] is None\n",
    "assert q[(\"t3\", \"20230801120004\")] is None \n",
    "\n",
    "print(\"✅ Self-Test OK\")"
   ]
  },
  {
   "cell_type": "markdown",
   "metadata": {},
   "source": [
    "## Speed Test\n",
    "\n",
    "* Run this cell to get an idea of how efficient your solution is.\n",
    "* Now we run 1 million insertions at the speed of 10k with the previous data structure\n"
   ]
  },
  {
   "cell_type": "code",
   "execution_count": 93,
   "metadata": {},
   "outputs": [
    {
     "name": "stderr",
     "output_type": "stream",
     "text": [
      "100%|██████████| 1000000/1000000 [00:09<00:00, 100374.45it/s]\n"
     ]
    }
   ],
   "source": [
    "# load test\n",
    "import random \n",
    "import tqdm\n",
    "\n",
    "q = Facebook(accepted_sensors=[f\"t{i}\" for i in range(20)], day=\"20230101\")\n",
    "\n",
    "# Add 1000000 records (took 5s on my laptop)\n",
    "for _ in tqdm.tqdm(range(int(1e6))):\n",
    "    q.record(Record(time=f\"20230101{random.randint(0, 23):02d}{random.randint(0, 59):02d}{random.randint(0, 59):02d}\", sensor=f\"t{random.randint(0, 19)}\", unit=\"C\", value=random.randint(100, 100000)))\n",
    "\n",
    "q.insert()"
   ]
  },
  {
   "cell_type": "code",
   "execution_count": 94,
   "metadata": {},
   "outputs": [
    {
     "name": "stderr",
     "output_type": "stream",
     "text": [
      "  0%|          | 0/1000000 [00:00<?, ?it/s]\n"
     ]
    },
    {
     "ename": "ValueError",
     "evalue": "invalid literal for int() with base 10: ''",
     "output_type": "error",
     "traceback": [
      "\u001b[1;31m---------------------------------------------------------------------------\u001b[0m",
      "\u001b[1;31mValueError\u001b[0m                                Traceback (most recent call last)",
      "Cell \u001b[1;32mIn[94], line 5\u001b[0m\n\u001b[0;32m      3\u001b[0m time \u001b[38;5;241m=\u001b[39m \u001b[38;5;124mf\u001b[39m\u001b[38;5;124m\"\u001b[39m\u001b[38;5;132;01m{\u001b[39;00mrandom\u001b[38;5;241m.\u001b[39mrandint(\u001b[38;5;241m0\u001b[39m,\u001b[38;5;250m \u001b[39m\u001b[38;5;241m23\u001b[39m)\u001b[38;5;132;01m:\u001b[39;00m\u001b[38;5;124m02d\u001b[39m\u001b[38;5;132;01m}\u001b[39;00m\u001b[38;5;132;01m{\u001b[39;00mrandom\u001b[38;5;241m.\u001b[39mrandint(\u001b[38;5;241m0\u001b[39m,\u001b[38;5;250m \u001b[39m\u001b[38;5;241m59\u001b[39m)\u001b[38;5;132;01m:\u001b[39;00m\u001b[38;5;124m02d\u001b[39m\u001b[38;5;132;01m}\u001b[39;00m\u001b[38;5;132;01m{\u001b[39;00mrandom\u001b[38;5;241m.\u001b[39mrandint(\u001b[38;5;241m0\u001b[39m,\u001b[38;5;250m \u001b[39m\u001b[38;5;241m59\u001b[39m)\u001b[38;5;132;01m:\u001b[39;00m\u001b[38;5;124m02d\u001b[39m\u001b[38;5;132;01m}\u001b[39;00m\u001b[38;5;124m\"\u001b[39m\n\u001b[0;32m      4\u001b[0m sensor \u001b[38;5;241m=\u001b[39m \u001b[38;5;124mf\u001b[39m\u001b[38;5;124m\"\u001b[39m\u001b[38;5;124mt\u001b[39m\u001b[38;5;132;01m{\u001b[39;00mrandom\u001b[38;5;241m.\u001b[39mrandint(\u001b[38;5;241m0\u001b[39m,\u001b[38;5;250m \u001b[39m\u001b[38;5;241m19\u001b[39m)\u001b[38;5;132;01m}\u001b[39;00m\u001b[38;5;124m\"\u001b[39m\n\u001b[1;32m----> 5\u001b[0m _ \u001b[38;5;241m=\u001b[39m \u001b[43mq\u001b[49m\u001b[43m[\u001b[49m\u001b[43m(\u001b[49m\u001b[43msensor\u001b[49m\u001b[43m,\u001b[49m\u001b[43m \u001b[49m\u001b[43mtime\u001b[49m\u001b[43m)\u001b[49m\u001b[43m]\u001b[49m\n",
      "Cell \u001b[1;32mIn[90], line 67\u001b[0m, in \u001b[0;36mFacebook.__getitem__\u001b[1;34m(self, tup)\u001b[0m\n\u001b[0;32m     66\u001b[0m \u001b[38;5;28;01mdef\u001b[39;00m \u001b[38;5;21m__getitem__\u001b[39m(\u001b[38;5;28mself\u001b[39m, tup: \u001b[38;5;28mtuple\u001b[39m):\n\u001b[1;32m---> 67\u001b[0m     time\u001b[38;5;241m=\u001b[39m\u001b[43mtimehash\u001b[49m\u001b[43m(\u001b[49m\u001b[43mtup\u001b[49m\u001b[43m[\u001b[49m\u001b[38;5;241;43m1\u001b[39;49m\u001b[43m]\u001b[49m\u001b[43m)\u001b[49m\n\u001b[0;32m     68\u001b[0m     \u001b[38;5;28;01mif\u001b[39;00m tup[\u001b[38;5;241m0\u001b[39m] \u001b[38;5;129;01mnot\u001b[39;00m \u001b[38;5;129;01min\u001b[39;00m \u001b[38;5;28mself\u001b[39m\u001b[38;5;241m.\u001b[39maccepted_sensors \u001b[38;5;129;01mor\u001b[39;00m time\u001b[38;5;241m>\u001b[39m\u001b[38;5;241m86400\u001b[39m:\n\u001b[0;32m     69\u001b[0m         \u001b[38;5;28;01mreturn\u001b[39;00m(\u001b[38;5;28;01mNone\u001b[39;00m)\n",
      "Cell \u001b[1;32mIn[90], line 15\u001b[0m, in \u001b[0;36mtimehash\u001b[1;34m(timestamp)\u001b[0m\n\u001b[0;32m     14\u001b[0m \u001b[38;5;28;01mdef\u001b[39;00m \u001b[38;5;21mtimehash\u001b[39m(timestamp: \u001b[38;5;28mstr\u001b[39m) \u001b[38;5;241m-\u001b[39m\u001b[38;5;241m>\u001b[39m \u001b[38;5;28mint\u001b[39m:\n\u001b[1;32m---> 15\u001b[0m     hours \u001b[38;5;241m=\u001b[39m \u001b[38;5;28;43mint\u001b[39;49m\u001b[43m(\u001b[49m\u001b[43mtimestamp\u001b[49m\u001b[43m[\u001b[49m\u001b[38;5;241;43m8\u001b[39;49m\u001b[43m:\u001b[49m\u001b[38;5;241;43m10\u001b[39;49m\u001b[43m]\u001b[49m\u001b[43m)\u001b[49m\n\u001b[0;32m     16\u001b[0m     minutes \u001b[38;5;241m=\u001b[39m \u001b[38;5;28mint\u001b[39m(timestamp[\u001b[38;5;241m10\u001b[39m:\u001b[38;5;241m12\u001b[39m])\n\u001b[0;32m     17\u001b[0m     seconds \u001b[38;5;241m=\u001b[39m \u001b[38;5;28mint\u001b[39m(timestamp[\u001b[38;5;241m12\u001b[39m:\u001b[38;5;241m14\u001b[39m])\n",
      "\u001b[1;31mValueError\u001b[0m: invalid literal for int() with base 10: ''"
     ]
    }
   ],
   "source": [
    "# Took 5s on my laptop\n",
    "for _ in tqdm.tqdm(range(int(1e6))):\n",
    "    time = f\"{random.randint(0, 23):02d}{random.randint(0, 59):02d}{random.randint(0, 59):02d}\"\n",
    "    sensor = f\"t{random.randint(0, 19)}\"\n",
    "    _ = q[(sensor, time)]"
   ]
  },
  {
   "cell_type": "markdown",
   "metadata": {},
   "source": [
    "# Question 3 - Gradient Descent (20 points)"
   ]
  },
  {
   "cell_type": "markdown",
   "metadata": {},
   "source": [
    "## Storyline\n",
    "\n",
    "* We are building a Linear Regression module\n",
    "* For the moment, we focus on predicting a single value from a single feature\n",
    "* Our model has the equation $\\tilde{y} = \\alpha * x$ where $\\tilde{y}$ is the approximation of $y$\n",
    "* See the example below with a created dataset and 2 examples of linear models that approximate the data"
   ]
  },
  {
   "cell_type": "code",
   "execution_count": 420,
   "metadata": {},
   "outputs": [
    {
     "data": {
      "text/plain": [
       "(0.0, 10.5)"
      ]
     },
     "execution_count": 420,
     "metadata": {},
     "output_type": "execute_result"
    },
    {
     "data": {
      "image/png": "[encoded data removed]",
      "text/plain": [
       "<Figure size 900x900 with 1 Axes>"
      ]
     },
     "metadata": {},
     "output_type": "display_data"
    }
   ],
   "source": [
    "import matplotlib.pyplot as plt\n",
    "import numpy as np\n",
    "\n",
    "rng = np.random.default_rng(seed=42)                         # set up randomness...\n",
    "x = np.linspace(0.0, 10.0, num=101)\n",
    "y = 2.0 * x + rng.normal(loc=0.0, scale=1.0, size=x.size)    # create data randomly y=2x+random\n",
    "\n",
    "fig, ax = plt.subplots(figsize=(9, 9))\n",
    "ax.scatter(x, y, c='black')\n",
    "\n",
    "y1 = 1.9 * x   \n",
    "y2 = 2.1 * x\n",
    "\n",
    "# 2 possible models with alpha=1.9 (blue) and alpha=2.1 (orange)\n",
    "ax.plot(x, y1, c='blue')\n",
    "ax.plot(x, y2, c='orange')\n",
    "\n",
    "ax.set_ylim(bottom=0)\n",
    "ax.set_xlim(0)"
   ]
  },
  {
   "cell_type": "markdown",
   "metadata": {},
   "source": [
    "* The method to identify the *best* value for $\\alpha$ is the following\n",
    "  * Define a loss function: $\\textrm{loss}(\\alpha)$ that uses the data\n",
    "  * Find the (or one) minimum for this function\n",
    "* The graph illustrates the loss value for different value of $\\alpha$ \n",
    "  * $\\textrm{loss}(\\alpha) = \\sum_{k=1}^{N} \\left( y - \\alpha x \\right)^2$"
   ]
  },
  {
   "cell_type": "code",
   "execution_count": 421,
   "metadata": {},
   "outputs": [
    {
     "data": {
      "text/plain": [
       "(0.0, 2.55)"
      ]
     },
     "execution_count": 421,
     "metadata": {},
     "output_type": "execute_result"
    },
    {
     "data": {
      "image/png": "[encoded data removed]",
      "text/plain": [
       "<Figure size 900x900 with 1 Axes>"
      ]
     },
     "metadata": {},
     "output_type": "display_data"
    }
   ],
   "source": [
    "alpha = np.linspace(1.5, 2.5, num=101)\n",
    "loss = [((y - a*x)**2).sum() for a in alpha]\n",
    "\n",
    "fig, ax = plt.subplots(figsize=(9, 9))\n",
    "ax.plot(alpha, loss, c='blue')\n",
    "ax.set_ylim(bottom=0)\n",
    "ax.set_xlim(0)"
   ]
  },
  {
   "cell_type": "markdown",
   "metadata": {},
   "source": [
    "Here is the gradient descent algorithm:\n",
    "* Given an interval $[a, b]$ where we will search $\\alpha$\n",
    "* Given a learning rate $\\eta \\in \\mathbb{R}^{+}$ \n",
    "* Given a minimum variation $V \\in \\mathbb{R}{+}$\n",
    "* Given a patience $P \\in \\mathbb{N}$ an integer\n",
    "* Given a function $\\textrm{loss}(\\alpha)$\n",
    "* Step 0: $\\alpha_0 = \\frac{b - a}{2}$\n",
    "* Repeat the following: (k is the number of steps done)\n",
    "  * compute $\\delta_k = \\textrm{loss'}(\\alpha_k)$ the value of the first derivate of $\\textrm{loss}$ at the point $\\alpha_k$ (a.k.a. *gradient*)\n",
    "  * compute $\\alpha_{k+1} = \\alpha_k - \\eta * \\delta_k$\n",
    "  * compute loss variation $v_k = | \\textrm{loss}(\\alpha_k) - \\textrm{loss}(\\alpha_{k+1}) |$\n",
    "  * if $v_k \\geqslant V$ continue, except if $k = P$, in this case, stop\n",
    "  * if $v_k < V$ stop"
   ]
  },
  {
   "cell_type": "markdown",
   "metadata": {},
   "source": [
    "## Assignment\n",
    "* Define a function `gradient` that receives 2 arguments \n",
    "  * `func` (callable) a function that takes ONE float argument and returns ONE float value\n",
    "  * `x` (float) a number\n",
    "  * `epsilon` (float) a small number (default = 0.001)\n",
    "  * the return value is the gradient of function `func` at point `x`\n",
    "  * it is given by the formula $\\textrm{gradient}(\\textrm{func}, x, \\epsilon) = \\frac{\\textrm{func}(x+\\epsilon) - \\textrm{func}(x-\\epsilon)}{2*\\epsilon}$\n",
    "* Re-define the class `Problem` using `dataclass`\n",
    "  * Attributes\n",
    "    * `x`, `y` are 2 numpy arrays (type hinting: `np.ndarray`)\n",
    "    * `loss` a function with 3 arguments \n",
    "      * `x` and `y` numpy arrays\n",
    "      * `alpha` float \n",
    "      * returns a float value (type hinting: `Callable[[np.ndarray, np.ndarray, float], float])`)\n",
    "  * Method `fit`\n",
    "    * Arguments:\n",
    "      * `a`, `b` are 2 float numbers, this is the interval where we will search the best possible $\\alpha$\n",
    "      * `eta`, `V` are 2 float numbers: the learning rate and the minimum variation\n",
    "      * `P` is an integer, it is the patience\n",
    "    * Returns\n",
    "      * one float value: the estimated BEST value for $\\alpha$\n",
    "    * Implements the gradient descent algorithm\n",
    "    * Uses $\\epsilon = 10^{-5}$ as precision for the computation of the gradient"
   ]
  },
  {
   "cell_type": "markdown",
   "metadata": {},
   "source": [
    "## What you deliver\n",
    "* function `gradient`\n",
    "* class `Problem`, using `@dataclass`, with attributes having the correct name and correct type, with the method `fit`"
   ]
  },
  {
   "cell_type": "markdown",
   "metadata": {},
   "source": [
    "## Grading\n",
    "\n",
    "Lines refer to the line numbers within the cell \"Self-Test\". \n",
    "\n",
    "Question| Description | Self-test Lines | Points\n",
    "---|---|---:|---:\n",
    "Q3.1 | Function `gradient` is well-defined | x | 5\n",
    "Q3.2 | Class `Problem` is well-defined | x-y | 15\n",
    "**TOTAL** | | | **20**"
   ]
  },
  {
   "cell_type": "code",
   "execution_count": 117,
   "metadata": {},
   "outputs": [],
   "source": [
    "# CodeGrade Tag Question3\n",
    "\n",
    "# Write your solution in one single cell:\n",
    "# function gradient\n",
    "# class Problem\n",
    "\n",
    "import numpy as np\n",
    "from dataclasses import dataclass\n",
    "from typing import Callable\n",
    "\n",
    "def gradient(func: Callable[[float], float], x:float, epsilon :float = 0.001):\n",
    "    return((func(x+epsilon)-func(x-epsilon))/(2*epsilon))\n",
    "\n",
    "\n",
    "@dataclass\n",
    "class Problem:\n",
    "    x : np.ndarray\n",
    "    y : np.ndarray\n",
    "    loss: Callable[[np.ndarray, np.ndarray, float], float]\n",
    "    \n",
    "    def fit(self, a: float, b: float, eta: float, V: float, P: int) -> float:\n",
    "        alpha_k = (b - a) / 2\n",
    "        epsilon = 1e-5 \n",
    "        for k in range(P):\n",
    "            delta_k = gradient(lambda alpha: self.loss(self.x, self.y, alpha), alpha_k, epsilon)\n",
    "            alpha_next = alpha_k - eta * delta_k\n",
    "            v_k = abs(self.loss(self.x, self.y, alpha_k) - self.loss(self.x, self.y, alpha_next))\n",
    "            if v_k < V:\n",
    "                break  \n",
    "            alpha_k = alpha_next\n",
    "        return(alpha_k)\n",
    "\n",
    "    # def fit(self, a: float, b: float, eta: float, V: float, P: int):\n",
    "    #     alpha = (b-a)/2\n",
    "    #     # a = self.loss(self.x, self.y, alpha) \n",
    "        \n",
    "    #     k=2\n",
    "    #     alpk = (b-a)/2\n",
    "    #     dk=self.loss(self.x, self.y, alpk)\n",
    "    #     alpk1 = alpk - eta*dk\n",
    "    #     # end = self.loss(self.x, self.y, alpk1)\n",
    "    #     # vk = abs(dk-end)\n",
    "    #     vk = abs(self.loss(self.x, self.y, alpk)-self.loss(self.x, self.y, alpk1))\n",
    "    #     alpk = alpk1\n",
    "    #     while vk>=V and k != P:\n",
    "    #     # while k<=10:\n",
    "    #         dk=self.loss(self.x, self.y, alpk)\n",
    "    #         alpk1 = alpk - eta*dk\n",
    "    #         vk = abs(self.loss(self.x, self.y, alpk)-self.loss(self.x, self.y, alpk1))\n",
    "    #         alpk = alpk1\n",
    "    #         k += 1\n",
    "    #     check = 0\n",
    "    #     for i in range(len(self.x)):\n",
    "    #         check += (self.y[i] - alpk1 * self.x[i])**2\n",
    "    #     return(dk, alpk, alpk1, vk)\n",
    "\n",
    "\n",
    "\n",
    "\n",
    "\n",
    "    def __hash__(self):\n",
    "        return(timehash(self.time))\n"
   ]
  },
  {
   "cell_type": "markdown",
   "metadata": {},
   "source": [
    "## Self-test"
   ]
  },
  {
   "cell_type": "code",
   "execution_count": 118,
   "metadata": {},
   "outputs": [
    {
     "name": "stdout",
     "output_type": "stream",
     "text": [
      "✅ Self-Test OK\n"
     ]
    }
   ],
   "source": [
    "import math\n",
    "from dataclasses import is_dataclass\n",
    "\n",
    "import numpy as np\n",
    "\n",
    "def double(x: float) -> float:\n",
    "    return 2*x\n",
    "\n",
    "def square(x: float) -> float:\n",
    "    return 1.5*x**2 + 2.1*x - 10.2\n",
    "\n",
    "assert math.isclose(gradient(func=double, x=1.0), 2.0)\n",
    "assert math.isclose(gradient(func=square, x=1.0), 5.1)\n",
    "assert math.isclose(gradient(func=square, x=-1.2, epsilon=0.1), -1.5)\n",
    "assert math.isclose(gradient(func=math.exp, x=-1.2, epsilon=0.1), math.exp(-1.2), rel_tol=1e-2)\n",
    "assert math.isclose(gradient(func=math.exp, x=-1.2, epsilon=1e-6), math.exp(-1.2))\n",
    "\n",
    "if not is_dataclass(Problem):\n",
    "    print(\"Not a dataclass.\")\n",
    "\n",
    "import numpy as np\n",
    "\n",
    "rng = np.random.default_rng(seed=42)                        \n",
    "data_x = np.linspace(0.0, 10.0, num=101)\n",
    "data_y = 1.7 * data_x + rng.normal(loc=0.0, scale=1.0, size=data_x.size) \n",
    "\n",
    "def loss_mse(x: np.ndarray, y: np.ndarray, alpha: float) -> float:\n",
    "    return float(((y - alpha * x)**2).sum())\n",
    "\n",
    "prob = Problem(x=data_x, y=data_y, loss=loss_mse)\n",
    "# print(prob.fit(a=1.0, b=2.0, eta=1e-5, V=1e-9, P=10000))\n",
    "assert math.isclose(prob.fit(a=1.0, b=2.0, eta=1e-5, V=1e-9, P=10000), 1.681, abs_tol=1e-3)\n",
    "\n",
    "print(\"✅ Self-Test OK\")"
   ]
  }
 ],
 "metadata": {
  "kernelspec": {
   "display_name": "teaching-2023-2024-M6SVF7W_-py3.10",
   "language": "python",
   "name": "python3"
  },
  "language_info": {
   "codemirror_mode": {
    "name": "ipython",
    "version": 3
   },
   "file_extension": ".py",
   "mimetype": "text/x-python",
   "name": "python",
   "nbconvert_exporter": "python",
   "pygments_lexer": "ipython3",
   "version": "3.11.5"
  },
  "orig_nbformat": 4
 },
 "nbformat": 4,
 "nbformat_minor": 2
}
